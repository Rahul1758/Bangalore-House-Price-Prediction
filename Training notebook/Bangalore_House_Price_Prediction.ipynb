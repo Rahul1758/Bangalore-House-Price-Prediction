{
 "cells": [
  {
   "cell_type": "markdown",
   "metadata": {
    "id": "P0Q_DpzfFTab"
   },
   "source": [
    "#Framing the Problem Statement\n",
    "\n",
    "* The Problem involves predicting the House prices in Bangalore given the various features about the house.\n",
    "* This is a __Supervised Machine__ learning __Regression__\n",
    " task because we have labels available with us in the training dataset and the we need to predict the House prices which is a continuous number, hence a Supervised Regression task.\n",
    "* We can use either MSE or RMSE as metrics as it is a regression task.\n"
   ]
  },
  {
   "cell_type": "markdown",
   "metadata": {
    "id": "dRhil5rEKE8g"
   },
   "source": [
    "# Collect the data\n",
    "\n",
    "I am using a Kaggle dataset by the name: [\"Bengaluru House Price Data\"](https://www.kaggle.com/datasets/amitabhajoy/bengaluru-house-price-data).\n",
    "\n",
    "The data is available in **CSV** format and can be downloaded on local machine. So we can import the CSV file into a Pandas Dataframe and analyse easily."
   ]
  },
  {
   "cell_type": "code",
   "execution_count": 2,
   "metadata": {
    "id": "wQiPZkCbwWIn"
   },
   "outputs": [],
   "source": [
    "# Importing necessary libraries\n",
    "import pickle\n",
    "import pandas as pd\n",
    "import numpy as np\n",
    "import matplotlib.pyplot as plt\n",
    "import seaborn as sns\n",
    "from collections import Counter\n",
    "\n",
    "from sklearn.pipeline import Pipeline\n",
    "from sklearn.compose import ColumnTransformer\n",
    "from sklearn.model_selection import GridSearchCV ,RandomizedSearchCV, KFold, cross_val_score, train_test_split\n",
    "from sklearn.preprocessing import StandardScaler, OneHotEncoder, OrdinalEncoder, LabelEncoder\n",
    "from skopt import BayesSearchCV\n",
    "from skopt.space import Real, Categorical, Integer\n",
    "\n",
    "from sklearn.linear_model import LinearRegression, Lasso, Ridge\n",
    "from sklearn.svm import SVR\n",
    "from sklearn.tree import DecisionTreeRegressor, ExtraTreeRegressor\n",
    "from sklearn.ensemble import RandomForestRegressor, GradientBoostingRegressor, StackingRegressor\n",
    "from xgboost import XGBRegressor"
   ]
  },
  {
   "cell_type": "code",
   "execution_count": 3,
   "metadata": {
    "id": "-dznd8bLaxbG"
   },
   "outputs": [],
   "source": [
    "import warnings\n",
    "warnings.filterwarnings(\"ignore\")\n",
    "\n",
    "def fxn():\n",
    "    warnings.warn(\"deprecated\", DeprecationWarning)\n",
    "\n",
    "with warnings.catch_warnings():\n",
    "    warnings.simplefilter(\"ignore\")\n",
    "    fxn()"
   ]
  },
  {
   "cell_type": "markdown",
   "metadata": {
    "id": "EmdiIOGzxU_u"
   },
   "source": [
    "# Explore & Prepare the data"
   ]
  },
  {
   "cell_type": "code",
   "execution_count": 5,
   "metadata": {
    "colab": {
     "base_uri": "https://localhost:8080/",
     "height": 206
    },
    "id": "IX55-wYaxVCh",
    "outputId": "b92408ec-25b6-437d-9f83-73362a2c644d"
   },
   "outputs": [
    {
     "data": {
      "text/html": [
       "<div>\n",
       "<style scoped>\n",
       "    .dataframe tbody tr th:only-of-type {\n",
       "        vertical-align: middle;\n",
       "    }\n",
       "\n",
       "    .dataframe tbody tr th {\n",
       "        vertical-align: top;\n",
       "    }\n",
       "\n",
       "    .dataframe thead th {\n",
       "        text-align: right;\n",
       "    }\n",
       "</style>\n",
       "<table border=\"1\" class=\"dataframe\">\n",
       "  <thead>\n",
       "    <tr style=\"text-align: right;\">\n",
       "      <th></th>\n",
       "      <th>area_type</th>\n",
       "      <th>availability</th>\n",
       "      <th>location</th>\n",
       "      <th>size</th>\n",
       "      <th>society</th>\n",
       "      <th>total_sqft</th>\n",
       "      <th>bath</th>\n",
       "      <th>balcony</th>\n",
       "      <th>price</th>\n",
       "    </tr>\n",
       "  </thead>\n",
       "  <tbody>\n",
       "    <tr>\n",
       "      <th>0</th>\n",
       "      <td>Super built-up  Area</td>\n",
       "      <td>19-Dec</td>\n",
       "      <td>Electronic City Phase II</td>\n",
       "      <td>2 BHK</td>\n",
       "      <td>Coomee</td>\n",
       "      <td>1056</td>\n",
       "      <td>2.0</td>\n",
       "      <td>1.0</td>\n",
       "      <td>39.07</td>\n",
       "    </tr>\n",
       "    <tr>\n",
       "      <th>1</th>\n",
       "      <td>Plot  Area</td>\n",
       "      <td>Ready To Move</td>\n",
       "      <td>Chikka Tirupathi</td>\n",
       "      <td>4 Bedroom</td>\n",
       "      <td>Theanmp</td>\n",
       "      <td>2600</td>\n",
       "      <td>5.0</td>\n",
       "      <td>3.0</td>\n",
       "      <td>120.00</td>\n",
       "    </tr>\n",
       "    <tr>\n",
       "      <th>2</th>\n",
       "      <td>Built-up  Area</td>\n",
       "      <td>Ready To Move</td>\n",
       "      <td>Uttarahalli</td>\n",
       "      <td>3 BHK</td>\n",
       "      <td>NaN</td>\n",
       "      <td>1440</td>\n",
       "      <td>2.0</td>\n",
       "      <td>3.0</td>\n",
       "      <td>62.00</td>\n",
       "    </tr>\n",
       "    <tr>\n",
       "      <th>3</th>\n",
       "      <td>Super built-up  Area</td>\n",
       "      <td>Ready To Move</td>\n",
       "      <td>Lingadheeranahalli</td>\n",
       "      <td>3 BHK</td>\n",
       "      <td>Soiewre</td>\n",
       "      <td>1521</td>\n",
       "      <td>3.0</td>\n",
       "      <td>1.0</td>\n",
       "      <td>95.00</td>\n",
       "    </tr>\n",
       "    <tr>\n",
       "      <th>4</th>\n",
       "      <td>Super built-up  Area</td>\n",
       "      <td>Ready To Move</td>\n",
       "      <td>Kothanur</td>\n",
       "      <td>2 BHK</td>\n",
       "      <td>NaN</td>\n",
       "      <td>1200</td>\n",
       "      <td>2.0</td>\n",
       "      <td>1.0</td>\n",
       "      <td>51.00</td>\n",
       "    </tr>\n",
       "  </tbody>\n",
       "</table>\n",
       "</div>"
      ],
      "text/plain": [
       "              area_type   availability                  location       size  \\\n",
       "0  Super built-up  Area         19-Dec  Electronic City Phase II      2 BHK   \n",
       "1            Plot  Area  Ready To Move          Chikka Tirupathi  4 Bedroom   \n",
       "2        Built-up  Area  Ready To Move               Uttarahalli      3 BHK   \n",
       "3  Super built-up  Area  Ready To Move        Lingadheeranahalli      3 BHK   \n",
       "4  Super built-up  Area  Ready To Move                  Kothanur      2 BHK   \n",
       "\n",
       "   society total_sqft  bath  balcony   price  \n",
       "0  Coomee        1056   2.0      1.0   39.07  \n",
       "1  Theanmp       2600   5.0      3.0  120.00  \n",
       "2      NaN       1440   2.0      3.0   62.00  \n",
       "3  Soiewre       1521   3.0      1.0   95.00  \n",
       "4      NaN       1200   2.0      1.0   51.00  "
      ]
     },
     "execution_count": 5,
     "metadata": {},
     "output_type": "execute_result"
    }
   ],
   "source": [
    "# Reading the CSV file into a dataframe\n",
    "df = pd.read_csv('./Bengaluru_House_Data.csv')\n",
    "df.head()"
   ]
  },
  {
   "cell_type": "code",
   "execution_count": 6,
   "metadata": {
    "colab": {
     "base_uri": "https://localhost:8080/"
    },
    "id": "k_fNsFepxVGD",
    "outputId": "2782a10b-c205-46ee-e1ba-9db702807771"
   },
   "outputs": [
    {
     "data": {
      "text/plain": [
       "13320"
      ]
     },
     "execution_count": 6,
     "metadata": {},
     "output_type": "execute_result"
    }
   ],
   "source": [
    "# There are approximately 13k records in the dataset\n",
    "len(df)"
   ]
  },
  {
   "cell_type": "markdown",
   "metadata": {
    "id": "PRRXV1aRxVL5"
   },
   "source": [
    "## Feature Description\n",
    "\n",
    "> As we can see below, there are 2 numerical independent variables and 6 categorical variables.\n",
    "\n",
    "* Numerical variables: **`bath, balcony`**\n",
    "* Categorical variables: **`area_type, availability, location, size, society, total_sqft`**\n",
    "* Target variable: **`price`**\n",
    "\n",
    "\n",
    "\n",
    "**Note:** The variable `total_sqft` should be a numerical variable but instead it is of `object` type (meaning categorical variable). It is because the `dtype` of the variable is `str`. We can easily change it to numerical variable by changing its `dtype` to float."
   ]
  },
  {
   "cell_type": "code",
   "execution_count": 7,
   "metadata": {
    "colab": {
     "base_uri": "https://localhost:8080/"
    },
    "id": "62aCcEHLxVJM",
    "outputId": "f41f5704-b3c4-4095-ad2a-b0121b48d15d"
   },
   "outputs": [
    {
     "name": "stdout",
     "output_type": "stream",
     "text": [
      "<class 'pandas.core.frame.DataFrame'>\n",
      "RangeIndex: 13320 entries, 0 to 13319\n",
      "Data columns (total 9 columns):\n",
      " #   Column        Non-Null Count  Dtype  \n",
      "---  ------        --------------  -----  \n",
      " 0   area_type     13320 non-null  object \n",
      " 1   availability  13320 non-null  object \n",
      " 2   location      13319 non-null  object \n",
      " 3   size          13304 non-null  object \n",
      " 4   society       7818 non-null   object \n",
      " 5   total_sqft    13320 non-null  object \n",
      " 6   bath          13247 non-null  float64\n",
      " 7   balcony       12711 non-null  float64\n",
      " 8   price         13320 non-null  float64\n",
      "dtypes: float64(3), object(6)\n",
      "memory usage: 936.7+ KB\n"
     ]
    }
   ],
   "source": [
    "# Description of variables\n",
    "df.info()"
   ]
  },
  {
   "cell_type": "markdown",
   "metadata": {
    "id": "yX4r0jfMxVTB"
   },
   "source": [
    "## Missing Values\n",
    "\n",
    "Also, there 5 features with missing values in them. So we need to treat them as well.\n",
    "\n",
    "* Now if we look closely at these features and check if the Missing values in these features are because they don't exist then the answer would be **No**. Every house should have a **`location, size, society, number of bathrooms and balcony`**."
   ]
  },
  {
   "cell_type": "code",
   "execution_count": 8,
   "metadata": {
    "colab": {
     "base_uri": "https://localhost:8080/"
    },
    "id": "3LlhvkDt2S-o",
    "outputId": "24492a57-3f6b-44fa-9e17-0d09e4cccec4"
   },
   "outputs": [
    {
     "data": {
      "text/plain": [
       "['location', 'size', 'society', 'bath', 'balcony']"
      ]
     },
     "execution_count": 8,
     "metadata": {},
     "output_type": "execute_result"
    }
   ],
   "source": [
    "missing_cols = [col for col in df.columns if any(df[col].isna())]\n",
    "missing_cols"
   ]
  },
  {
   "cell_type": "code",
   "execution_count": 9,
   "metadata": {
    "colab": {
     "base_uri": "https://localhost:8080/",
     "height": 367
    },
    "id": "1vUpYDpv2TBb",
    "outputId": "401949b2-429f-49a8-fea3-b37cab48a796"
   },
   "outputs": [
    {
     "data": {
      "text/plain": [
       "Text(0, 0.5, 'Missing counts')"
      ]
     },
     "execution_count": 9,
     "metadata": {},
     "output_type": "execute_result"
    },
    {
     "data": {
      "image/png": "[encoded data removed]",
      "text/plain": [
       "<Figure size 360x360 with 1 Axes>"
      ]
     },
     "metadata": {
      "needs_background": "light"
     },
     "output_type": "display_data"
    }
   ],
   "source": [
    "# Plot for missing values in each feature\n",
    "missing_counts = [df[col].isna().sum() for col in missing_cols]\n",
    "\n",
    "plt.figure(figsize=(5,5))\n",
    "sns.barplot(x=missing_cols, y=missing_counts)\n",
    "plt.title('Features with missing values & counts')\n",
    "plt.xlabel('Features')\n",
    "plt.ylabel('Missing counts')"
   ]
  },
  {
   "cell_type": "markdown",
   "metadata": {
    "id": "JA1Y6zRcGI72"
   },
   "source": [
    "## Exploring the Numerical Features\n",
    "* The Numerical features in the dataset are: **`bath, balcony`**\n",
    "\n",
    "* But if observe closely then **`size & total_sqft`** should be numerical features by definition. So I'll proceed considering them as numerical features but before that we need to convert them into numerical format."
   ]
  },
  {
   "cell_type": "markdown",
   "metadata": {
    "id": "Xe0oJu1prRzp"
   },
   "source": [
    "### Size\n",
    "\n",
    "This feature defines the number of rooms a house has (including bedroom, hall & kitchen to be specific). \n",
    "\n",
    "Also the data type of this feature is `str` so we'll need to convert it to numbers to analyse better."
   ]
  },
  {
   "cell_type": "code",
   "execution_count": 10,
   "metadata": {
    "colab": {
     "base_uri": "https://localhost:8080/"
    },
    "id": "hPxHpHLs55_t",
    "outputId": "6e1b712d-b2fc-4d7c-f5e0-d4d8eacc8f22"
   },
   "outputs": [
    {
     "data": {
      "text/plain": [
       "array(['2 BHK', '4 Bedroom', '3 BHK', '4 BHK', '6 Bedroom', '3 Bedroom',\n",
       "       '1 BHK', '1 RK', '1 Bedroom', '8 Bedroom', '2 Bedroom',\n",
       "       '7 Bedroom', '5 BHK', '7 BHK', '6 BHK', '5 Bedroom', '11 BHK',\n",
       "       '9 BHK', nan, '9 Bedroom', '27 BHK', '10 Bedroom', '11 Bedroom',\n",
       "       '10 BHK', '19 BHK', '16 BHK', '43 Bedroom', '14 BHK', '8 BHK',\n",
       "       '12 Bedroom', '13 BHK', '18 Bedroom'], dtype=object)"
      ]
     },
     "execution_count": 10,
     "metadata": {},
     "output_type": "execute_result"
    }
   ],
   "source": [
    "# Unique values in size feature\n",
    "df['size'].unique()"
   ]
  },
  {
   "cell_type": "code",
   "execution_count": 11,
   "metadata": {
    "colab": {
     "base_uri": "https://localhost:8080/",
     "height": 206
    },
    "id": "6ImQMfYZrQ2v",
    "outputId": "74c3d7b4-9169-4a4b-d934-9ec639f92aa7"
   },
   "outputs": [
    {
     "data": {
      "text/html": [
       "<div>\n",
       "<style scoped>\n",
       "    .dataframe tbody tr th:only-of-type {\n",
       "        vertical-align: middle;\n",
       "    }\n",
       "\n",
       "    .dataframe tbody tr th {\n",
       "        vertical-align: top;\n",
       "    }\n",
       "\n",
       "    .dataframe thead th {\n",
       "        text-align: right;\n",
       "    }\n",
       "</style>\n",
       "<table border=\"1\" class=\"dataframe\">\n",
       "  <thead>\n",
       "    <tr style=\"text-align: right;\">\n",
       "      <th></th>\n",
       "      <th>area_type</th>\n",
       "      <th>availability</th>\n",
       "      <th>location</th>\n",
       "      <th>size</th>\n",
       "      <th>society</th>\n",
       "      <th>total_sqft</th>\n",
       "      <th>bath</th>\n",
       "      <th>balcony</th>\n",
       "      <th>price</th>\n",
       "    </tr>\n",
       "  </thead>\n",
       "  <tbody>\n",
       "    <tr>\n",
       "      <th>0</th>\n",
       "      <td>Super built-up  Area</td>\n",
       "      <td>19-Dec</td>\n",
       "      <td>Electronic City Phase II</td>\n",
       "      <td>4.0</td>\n",
       "      <td>Coomee</td>\n",
       "      <td>1056</td>\n",
       "      <td>2.0</td>\n",
       "      <td>1.0</td>\n",
       "      <td>39.07</td>\n",
       "    </tr>\n",
       "    <tr>\n",
       "      <th>1</th>\n",
       "      <td>Plot  Area</td>\n",
       "      <td>Ready To Move</td>\n",
       "      <td>Chikka Tirupathi</td>\n",
       "      <td>6.0</td>\n",
       "      <td>Theanmp</td>\n",
       "      <td>2600</td>\n",
       "      <td>5.0</td>\n",
       "      <td>3.0</td>\n",
       "      <td>120.00</td>\n",
       "    </tr>\n",
       "    <tr>\n",
       "      <th>2</th>\n",
       "      <td>Built-up  Area</td>\n",
       "      <td>Ready To Move</td>\n",
       "      <td>Uttarahalli</td>\n",
       "      <td>5.0</td>\n",
       "      <td>NaN</td>\n",
       "      <td>1440</td>\n",
       "      <td>2.0</td>\n",
       "      <td>3.0</td>\n",
       "      <td>62.00</td>\n",
       "    </tr>\n",
       "    <tr>\n",
       "      <th>3</th>\n",
       "      <td>Super built-up  Area</td>\n",
       "      <td>Ready To Move</td>\n",
       "      <td>Lingadheeranahalli</td>\n",
       "      <td>5.0</td>\n",
       "      <td>Soiewre</td>\n",
       "      <td>1521</td>\n",
       "      <td>3.0</td>\n",
       "      <td>1.0</td>\n",
       "      <td>95.00</td>\n",
       "    </tr>\n",
       "    <tr>\n",
       "      <th>4</th>\n",
       "      <td>Super built-up  Area</td>\n",
       "      <td>Ready To Move</td>\n",
       "      <td>Kothanur</td>\n",
       "      <td>4.0</td>\n",
       "      <td>NaN</td>\n",
       "      <td>1200</td>\n",
       "      <td>2.0</td>\n",
       "      <td>1.0</td>\n",
       "      <td>51.00</td>\n",
       "    </tr>\n",
       "  </tbody>\n",
       "</table>\n",
       "</div>"
      ],
      "text/plain": [
       "              area_type   availability                  location  size  \\\n",
       "0  Super built-up  Area         19-Dec  Electronic City Phase II   4.0   \n",
       "1            Plot  Area  Ready To Move          Chikka Tirupathi   6.0   \n",
       "2        Built-up  Area  Ready To Move               Uttarahalli   5.0   \n",
       "3  Super built-up  Area  Ready To Move        Lingadheeranahalli   5.0   \n",
       "4  Super built-up  Area  Ready To Move                  Kothanur   4.0   \n",
       "\n",
       "   society total_sqft  bath  balcony   price  \n",
       "0  Coomee        1056   2.0      1.0   39.07  \n",
       "1  Theanmp       2600   5.0      3.0  120.00  \n",
       "2      NaN       1440   2.0      3.0   62.00  \n",
       "3  Soiewre       1521   3.0      1.0   95.00  \n",
       "4      NaN       1200   2.0      1.0   51.00  "
      ]
     },
     "execution_count": 11,
     "metadata": {},
     "output_type": "execute_result"
    }
   ],
   "source": [
    "df_modified = df.copy() #Copy the dataframe to modify it\n",
    "\n",
    "# Transform the size feature into numerical format\n",
    "def convert_size(x):\n",
    "  if pd.isnull(x):\n",
    "    return np.nan\n",
    "  elif 'RK' in x:\n",
    "    return int(x.split(' ')[0]) + 1 #Total number of rooms in a RK\n",
    "  else:\n",
    "    return int(x.split(' ')[0]) + 2 #Total number of rooms in a BHK/Bedroom\n",
    "\n",
    "# Apply the transformation on size feature\n",
    "df_modified['size'] = df_modified['size'].apply(convert_size)\n",
    "df_modified.head()"
   ]
  },
  {
   "cell_type": "code",
   "execution_count": 12,
   "metadata": {
    "colab": {
     "base_uri": "https://localhost:8080/",
     "height": 519
    },
    "id": "6OTd6h2lzYf3",
    "outputId": "99e52c04-f0d4-464b-9fe3-54d2b2b3e936"
   },
   "outputs": [
    {
     "data": {
      "text/plain": [
       "Text(0, 0.5, 'Count')"
      ]
     },
     "execution_count": 12,
     "metadata": {},
     "output_type": "execute_result"
    },
    {
     "data": {
      "image/png": "[encoded data removed]",
      "text/plain": [
       "<Figure size 720x576 with 1 Axes>"
      ]
     },
     "metadata": {
      "needs_background": "light"
     },
     "output_type": "display_data"
    }
   ],
   "source": [
    "# Visualize the number of rooms in each house\n",
    "plt.figure(figsize=(10,8))\n",
    "sns.countplot(x='size', data=df_modified)\n",
    "plt.xlabel('Number of rooms', fontsize=15)\n",
    "plt.ylabel('Count', fontsize=15)"
   ]
  },
  {
   "cell_type": "code",
   "execution_count": 13,
   "metadata": {
    "colab": {
     "base_uri": "https://localhost:8080/",
     "height": 628
    },
    "id": "Mu8gKqJOea7f",
    "outputId": "487710c3-091d-40f8-d16f-854c0d96c70f"
   },
   "outputs": [
    {
     "data": {
      "image/png": "[encoded data removed]",
      "text/plain": [
       "<Figure size 1440x720 with 1 Axes>"
      ]
     },
     "metadata": {
      "needs_background": "light"
     },
     "output_type": "display_data"
    }
   ],
   "source": [
    "# Plot size vs Price \n",
    "group = df_modified.groupby('size')['price'].mean()\n",
    "\n",
    "plt.figure(figsize=(20,10))\n",
    "sns.scatterplot(x=group.index, y=group.values)\n",
    "plt.title('Size of house vs Mean Prices', fontsize=15)\n",
    "plt.xlabel('Number of rooms', fontsize=15)\n",
    "plt.xticks(ticks=group.index, labels=group.index)\n",
    "plt.ylabel('Price of house', fontsize=15)\n",
    "plt.grid(True)"
   ]
  },
  {
   "cell_type": "markdown",
   "metadata": {
    "id": "jmY4vDnc0QHw"
   },
   "source": [
    "**Insights:**\n",
    "* Again, 2-4 BHK (4-6 rooms due to the transformation) houses are most common in the dataset. \n",
    "* The biggest house in the dataset is a house with 43BHK (45 rooms). \n",
    "* The relation between size of the house and its mean price is almost linear, which means as the size of house increases price goes up. There are some exceptions but that may also be due to the locality of the house."
   ]
  },
  {
   "cell_type": "markdown",
   "metadata": {
    "id": "RSc4TgsRLS_W"
   },
   "source": [
    "### Bath\n",
    "\n",
    "This feature defines the number of bathrooms in the house. Let's visualize this feature.\n"
   ]
  },
  {
   "cell_type": "code",
   "execution_count": 14,
   "metadata": {
    "colab": {
     "base_uri": "https://localhost:8080/",
     "height": 514
    },
    "id": "YSJO4cnLLTFf",
    "outputId": "b7770489-b786-4bdd-e872-8c5d6c809279"
   },
   "outputs": [
    {
     "data": {
      "text/plain": [
       "Text(0.5, 0, 'Number of bathrooms')"
      ]
     },
     "execution_count": 14,
     "metadata": {},
     "output_type": "execute_result"
    },
    {
     "data": {
      "image/png": "[encoded data removed]",
      "text/plain": [
       "<Figure size 576x576 with 1 Axes>"
      ]
     },
     "metadata": {
      "needs_background": "light"
     },
     "output_type": "display_data"
    }
   ],
   "source": [
    "# Barplot of number of bathrooms in the house\n",
    "plt.figure(figsize=(8,8))\n",
    "sns.countplot(x='bath', data=df_modified)\n",
    "plt.xlabel('Number of bathrooms')"
   ]
  },
  {
   "cell_type": "markdown",
   "metadata": {
    "id": "qaqCEFvlLTIj"
   },
   "source": [
    "**Insights:**\n",
    "* Most houses in the dataset have 2-4 bathrooms.\n",
    "\n",
    "* If you observe the plot, there are house with more than 15 bathrooms. Something is fishy about that! Let's check the data for these records."
   ]
  },
  {
   "cell_type": "code",
   "execution_count": 15,
   "metadata": {
    "colab": {
     "base_uri": "https://localhost:8080/",
     "height": 206
    },
    "id": "rqJczR41LTMd",
    "outputId": "4461866d-bf13-4632-cab9-c9eed604305d"
   },
   "outputs": [
    {
     "data": {
      "text/html": [
       "<div>\n",
       "<style scoped>\n",
       "    .dataframe tbody tr th:only-of-type {\n",
       "        vertical-align: middle;\n",
       "    }\n",
       "\n",
       "    .dataframe tbody tr th {\n",
       "        vertical-align: top;\n",
       "    }\n",
       "\n",
       "    .dataframe thead th {\n",
       "        text-align: right;\n",
       "    }\n",
       "</style>\n",
       "<table border=\"1\" class=\"dataframe\">\n",
       "  <thead>\n",
       "    <tr style=\"text-align: right;\">\n",
       "      <th></th>\n",
       "      <th>area_type</th>\n",
       "      <th>availability</th>\n",
       "      <th>location</th>\n",
       "      <th>size</th>\n",
       "      <th>society</th>\n",
       "      <th>total_sqft</th>\n",
       "      <th>bath</th>\n",
       "      <th>balcony</th>\n",
       "      <th>price</th>\n",
       "    </tr>\n",
       "  </thead>\n",
       "  <tbody>\n",
       "    <tr>\n",
       "      <th>1718</th>\n",
       "      <td>Super built-up  Area</td>\n",
       "      <td>Ready To Move</td>\n",
       "      <td>2Electronic City Phase II</td>\n",
       "      <td>29.0</td>\n",
       "      <td>NaN</td>\n",
       "      <td>8000</td>\n",
       "      <td>27.0</td>\n",
       "      <td>0.0</td>\n",
       "      <td>230.0</td>\n",
       "    </tr>\n",
       "    <tr>\n",
       "      <th>3379</th>\n",
       "      <td>Super built-up  Area</td>\n",
       "      <td>Ready To Move</td>\n",
       "      <td>1Hanuman Nagar</td>\n",
       "      <td>21.0</td>\n",
       "      <td>NaN</td>\n",
       "      <td>2000</td>\n",
       "      <td>16.0</td>\n",
       "      <td>NaN</td>\n",
       "      <td>490.0</td>\n",
       "    </tr>\n",
       "    <tr>\n",
       "      <th>3609</th>\n",
       "      <td>Super built-up  Area</td>\n",
       "      <td>Ready To Move</td>\n",
       "      <td>Koramangala Industrial Layout</td>\n",
       "      <td>18.0</td>\n",
       "      <td>NaN</td>\n",
       "      <td>10000</td>\n",
       "      <td>16.0</td>\n",
       "      <td>NaN</td>\n",
       "      <td>550.0</td>\n",
       "    </tr>\n",
       "    <tr>\n",
       "      <th>4684</th>\n",
       "      <td>Plot  Area</td>\n",
       "      <td>Ready To Move</td>\n",
       "      <td>Munnekollal</td>\n",
       "      <td>45.0</td>\n",
       "      <td>NaN</td>\n",
       "      <td>2400</td>\n",
       "      <td>40.0</td>\n",
       "      <td>0.0</td>\n",
       "      <td>660.0</td>\n",
       "    </tr>\n",
       "    <tr>\n",
       "      <th>11559</th>\n",
       "      <td>Plot  Area</td>\n",
       "      <td>18-Apr</td>\n",
       "      <td>1Kasavanhalli</td>\n",
       "      <td>20.0</td>\n",
       "      <td>HMwerCo</td>\n",
       "      <td>1200</td>\n",
       "      <td>18.0</td>\n",
       "      <td>NaN</td>\n",
       "      <td>200.0</td>\n",
       "    </tr>\n",
       "  </tbody>\n",
       "</table>\n",
       "</div>"
      ],
      "text/plain": [
       "                  area_type   availability                       location  \\\n",
       "1718   Super built-up  Area  Ready To Move      2Electronic City Phase II   \n",
       "3379   Super built-up  Area  Ready To Move                 1Hanuman Nagar   \n",
       "3609   Super built-up  Area  Ready To Move  Koramangala Industrial Layout   \n",
       "4684             Plot  Area  Ready To Move                    Munnekollal   \n",
       "11559            Plot  Area         18-Apr                  1Kasavanhalli   \n",
       "\n",
       "       size  society total_sqft  bath  balcony  price  \n",
       "1718   29.0      NaN       8000  27.0      0.0  230.0  \n",
       "3379   21.0      NaN       2000  16.0      NaN  490.0  \n",
       "3609   18.0      NaN      10000  16.0      NaN  550.0  \n",
       "4684   45.0      NaN       2400  40.0      0.0  660.0  \n",
       "11559  20.0  HMwerCo       1200  18.0      NaN  200.0  "
      ]
     },
     "execution_count": 15,
     "metadata": {},
     "output_type": "execute_result"
    }
   ],
   "source": [
    "# Checking records with more than \n",
    "df_modified[df_modified['bath']>15]"
   ]
  },
  {
   "cell_type": "code",
   "execution_count": 16,
   "metadata": {
    "colab": {
     "base_uri": "https://localhost:8080/",
     "height": 643
    },
    "id": "zH8Sv8_vUTc1",
    "outputId": "27f17504-5c71-4a64-dc9e-bc9d242a66f5"
   },
   "outputs": [
    {
     "data": {
      "image/png": "[encoded data removed]",
      "text/plain": [
       "<Figure size 1440x720 with 1 Axes>"
      ]
     },
     "metadata": {
      "needs_background": "light"
     },
     "output_type": "display_data"
    }
   ],
   "source": [
    "# Plot of size vs bathrooms\n",
    "plt.figure(figsize=(20,10))\n",
    "plt.style.use('seaborn-dark')\n",
    "sns.scatterplot(x='size', y='bath', data=df_modified)\n",
    "plt.title('Size of Houses vs Bathrooms', fontsize=20)\n",
    "plt.xlabel('Number of rooms', fontsize=20)\n",
    "plt.xticks(ticks=df_modified['size'].unique(), labels=df_modified['size'].unique(), rotation=45)\n",
    "plt.ylabel('Number of bathrooms', fontsize=20)\n",
    "plt.grid(True)"
   ]
  },
  {
   "cell_type": "markdown",
   "metadata": {
    "id": "EkYddDgAOiPn"
   },
   "source": [
    "**Insights:**\n",
    "* Now, if we compare `bath` with `size` feature then the number of bathrooms are approximately equal or lesser than the number of rooms in the house, which is fair. The records where number of bathrooms are greater than number of rooms (including hall & kitchen) can be dropped.\n",
    "\n",
    "* Also, in Bangalore most of the houses are multifloored which might be the reason of many rooms in small area (e.g. 43BHK in 2400 sq.ft Plot area). Visit this [link](https://www.99acres.com/independent-house-in-doddanagamangala-bangalore-south-ffid) and see for yourself.\n",
    "\n"
   ]
  },
  {
   "cell_type": "code",
   "execution_count": 17,
   "metadata": {
    "colab": {
     "base_uri": "https://localhost:8080/"
    },
    "id": "zRcDMHOczIeY",
    "outputId": "1324d027-0362-4b53-c18f-ed2a84e38f24"
   },
   "outputs": [
    {
     "data": {
      "text/plain": [
       "(13231, 9)"
      ]
     },
     "execution_count": 17,
     "metadata": {},
     "output_type": "execute_result"
    }
   ],
   "source": [
    "# Dropping records where number of bathrooms are higher than size of house\n",
    "df_modified = df_modified[df_modified['bath'] <= df_modified['size']]\n",
    "df_modified.shape"
   ]
  },
  {
   "cell_type": "code",
   "execution_count": 18,
   "metadata": {
    "colab": {
     "base_uri": "https://localhost:8080/",
     "height": 643
    },
    "id": "whG_LlO7ZHYA",
    "outputId": "ac6636ed-4d78-4042-94a6-1315263a43be"
   },
   "outputs": [
    {
     "data": {
      "image/png": "[encoded data removed]",
      "text/plain": [
       "<Figure size 1440x720 with 1 Axes>"
      ]
     },
     "metadata": {},
     "output_type": "display_data"
    }
   ],
   "source": [
    "# Plot of size vs bathrooms after dropping records\n",
    "plt.figure(figsize=(20,10))\n",
    "sns.scatterplot(x='size', y='bath', data=df_modified)\n",
    "plt.title('Size of Houses vs Bathrooms', fontsize=20)\n",
    "plt.xlabel('Number of rooms', fontsize=20)\n",
    "plt.xticks(ticks=df_modified['size'].unique(), labels=df_modified['size'].unique(), rotation=45)\n",
    "plt.ylabel('Number of bathrooms', fontsize=20)\n",
    "plt.grid(True)"
   ]
  },
  {
   "cell_type": "markdown",
   "metadata": {
    "id": "5LCuUDUZQ_m4"
   },
   "source": [
    "### Balcony\n",
    "\n",
    "This feature defines the number of balconies a house has. \n",
    "\n",
    "There are many records in the dataset where the number of balconies for houses are not reported at all and thus are NaN.\n"
   ]
  },
  {
   "cell_type": "code",
   "execution_count": 19,
   "metadata": {
    "colab": {
     "base_uri": "https://localhost:8080/",
     "height": 497
    },
    "id": "Ftke1ggmRKK3",
    "outputId": "c3c2dc28-7456-45ed-cdd2-e122cbc24265"
   },
   "outputs": [
    {
     "data": {
      "image/png": "[encoded data removed]",
      "text/plain": [
       "<Figure size 576x576 with 1 Axes>"
      ]
     },
     "metadata": {},
     "output_type": "display_data"
    }
   ],
   "source": [
    "# Plot the number of balconies \n",
    "plt.figure(figsize=(8,8))\n",
    "sns.countplot(x='balcony', data=df_modified)\n",
    "plt.xlabel('Number of balconies', fontsize=15)\n",
    "plt.ylabel('Count', fontsize=15)\n",
    "plt.grid(True)"
   ]
  },
  {
   "cell_type": "code",
   "execution_count": 20,
   "metadata": {
    "colab": {
     "base_uri": "https://localhost:8080/"
    },
    "id": "DYQRAlNmmrVx",
    "outputId": "621f02d2-55d5-4a9e-c750-ef6bb29f5be4"
   },
   "outputs": [
    {
     "name": "stdout",
     "output_type": "stream",
     "text": [
      "Size of the house: 2, Number of bathrooms: 0\n",
      "Size of the house: 3, Number of bathrooms: 1\n",
      "Size of the house: 4, Number of bathrooms: 1\n",
      "Size of the house: 5, Number of bathrooms: 2\n",
      "Size of the house: 6, Number of bathrooms: 2\n",
      "Size of the house: 7, Number of bathrooms: 2\n",
      "Size of the house: 8, Number of bathrooms: 2\n",
      "Size of the house: 9, Number of bathrooms: 3\n",
      "Size of the house: 10, Number of bathrooms: 2\n",
      "Size of the house: 11, Number of bathrooms: 3\n",
      "Size of the house: 12, Number of bathrooms: 3\n",
      "Size of the house: 13, Number of bathrooms: 3\n",
      "Size of the house: 14, Number of bathrooms: 2\n",
      "Size of the house: 15, Number of bathrooms: 0\n",
      "Size of the house: 16, Number of bathrooms: 0\n",
      "Size of the house: 18, Number of bathrooms: NaN\n",
      "Size of the house: 20, Number of bathrooms: NaN\n",
      "Size of the house: 21, Number of bathrooms: NaN\n",
      "Size of the house: 29, Number of bathrooms: 0\n",
      "Size of the house: 45, Number of bathrooms: 0\n"
     ]
    }
   ],
   "source": [
    "# Balconies vs size\n",
    "groups = df_modified.groupby('size')['balcony']\n",
    "for key, grp in groups:\n",
    "  b=Counter()\n",
    "  b.update(grp.dropna().values)\n",
    "  bathroom = b.most_common(1)\n",
    "  print(f'Size of the house: {int(key)}, Number of bathrooms: {int(bathroom[0][0]) if len(bathroom)==1 else \"NaN\"}')"
   ]
  },
  {
   "cell_type": "markdown",
   "metadata": {
    "id": "t9zt6QmZEUwQ"
   },
   "source": [
    "**Insights:**\n",
    "\n",
    "* There are maximum of 3 balcony houses in the dataset, where most houses have either 1 or 2 balconies.\n",
    "* As the size of the house increases the number of balconies also increase with few exceptions where largest house has no balcony at all."
   ]
  },
  {
   "cell_type": "markdown",
   "metadata": {
    "id": "6KKvp_Pj5Z4e"
   },
   "source": [
    "### Total Sqft\n",
    "\n",
    "This feature defines the area of house in sq. ft.\n",
    "\n",
    "Now the data type of this feature is `str`, so we'll have to convert it into numerical format first to analyse it better."
   ]
  },
  {
   "cell_type": "code",
   "execution_count": 21,
   "metadata": {
    "colab": {
     "base_uri": "https://localhost:8080/"
    },
    "id": "70sbl2kF53Pr",
    "outputId": "93b2b2a0-7be6-4b5e-eb6e-f6a2ba8836f9"
   },
   "outputs": [
    {
     "data": {
      "text/plain": [
       "array(['1056', '2600', '1440', ..., '1133 - 1384', '774', '4689'],\n",
       "      dtype=object)"
      ]
     },
     "execution_count": 21,
     "metadata": {},
     "output_type": "execute_result"
    }
   ],
   "source": [
    "# Unique value in total_sqft feature\n",
    "df_modified['total_sqft'].unique()"
   ]
  },
  {
   "cell_type": "markdown",
   "metadata": {
    "id": "nBMM-cDZp08p"
   },
   "source": [
    "As you can see, the number of `total_sqft` feature are in string format but there are some records where the area is \n",
    "* a range (e.g. **1133-1384**) \n",
    "* in sq. meters (e.g. **78.03Sq. Meter**) (conversion 1 sq.m = 10.7639 sq.ft)\n",
    "* in Perches  (e.g. **4125Perch**) (conversion 1 Perch = 272.25 sq.ft)\n",
    "* in Guntha  (e.g. **38Guntha**) (conversion 1 Guntha = 1089 sq.ft)\n",
    "* in Acres  (e.g. **2Acres**) (conversion 1 Acre = 43560 sq.ft)\n",
    "* in sq. yards  (e.g. **45Sq. Yards**) (conversion 1 sq.yard = 9 sq.ft)\n",
    "* in Cents  (e.g. **3Cents**) (conversion 1 cent = 435.6 sq.ft)\n",
    "* in Grounds  (e.g. **1Grounds**) (conversion 1 ground = 2400 sq.ft)\n",
    "\n",
    "I'll be removing records with area in metrics other than sq.ft (e.g sq. m, perch, etc.) because they end adding outliers to the `total_sqft` feature."
   ]
  },
  {
   "cell_type": "code",
   "execution_count": 22,
   "metadata": {
    "colab": {
     "base_uri": "https://localhost:8080/",
     "height": 206
    },
    "id": "papYTVZip4tB",
    "outputId": "cf4d8328-3504-4173-bb9b-aa6cc8273083"
   },
   "outputs": [
    {
     "data": {
      "text/html": [
       "<div>\n",
       "<style scoped>\n",
       "    .dataframe tbody tr th:only-of-type {\n",
       "        vertical-align: middle;\n",
       "    }\n",
       "\n",
       "    .dataframe tbody tr th {\n",
       "        vertical-align: top;\n",
       "    }\n",
       "\n",
       "    .dataframe thead th {\n",
       "        text-align: right;\n",
       "    }\n",
       "</style>\n",
       "<table border=\"1\" class=\"dataframe\">\n",
       "  <thead>\n",
       "    <tr style=\"text-align: right;\">\n",
       "      <th></th>\n",
       "      <th>area_type</th>\n",
       "      <th>availability</th>\n",
       "      <th>location</th>\n",
       "      <th>size</th>\n",
       "      <th>society</th>\n",
       "      <th>total_sqft</th>\n",
       "      <th>bath</th>\n",
       "      <th>balcony</th>\n",
       "      <th>price</th>\n",
       "    </tr>\n",
       "  </thead>\n",
       "  <tbody>\n",
       "    <tr>\n",
       "      <th>0</th>\n",
       "      <td>Super built-up  Area</td>\n",
       "      <td>19-Dec</td>\n",
       "      <td>Electronic City Phase II</td>\n",
       "      <td>4.0</td>\n",
       "      <td>Coomee</td>\n",
       "      <td>1056.0</td>\n",
       "      <td>2.0</td>\n",
       "      <td>1.0</td>\n",
       "      <td>39.07</td>\n",
       "    </tr>\n",
       "    <tr>\n",
       "      <th>1</th>\n",
       "      <td>Plot  Area</td>\n",
       "      <td>Ready To Move</td>\n",
       "      <td>Chikka Tirupathi</td>\n",
       "      <td>6.0</td>\n",
       "      <td>Theanmp</td>\n",
       "      <td>2600.0</td>\n",
       "      <td>5.0</td>\n",
       "      <td>3.0</td>\n",
       "      <td>120.00</td>\n",
       "    </tr>\n",
       "    <tr>\n",
       "      <th>2</th>\n",
       "      <td>Built-up  Area</td>\n",
       "      <td>Ready To Move</td>\n",
       "      <td>Uttarahalli</td>\n",
       "      <td>5.0</td>\n",
       "      <td>NaN</td>\n",
       "      <td>1440.0</td>\n",
       "      <td>2.0</td>\n",
       "      <td>3.0</td>\n",
       "      <td>62.00</td>\n",
       "    </tr>\n",
       "    <tr>\n",
       "      <th>3</th>\n",
       "      <td>Super built-up  Area</td>\n",
       "      <td>Ready To Move</td>\n",
       "      <td>Lingadheeranahalli</td>\n",
       "      <td>5.0</td>\n",
       "      <td>Soiewre</td>\n",
       "      <td>1521.0</td>\n",
       "      <td>3.0</td>\n",
       "      <td>1.0</td>\n",
       "      <td>95.00</td>\n",
       "    </tr>\n",
       "    <tr>\n",
       "      <th>4</th>\n",
       "      <td>Super built-up  Area</td>\n",
       "      <td>Ready To Move</td>\n",
       "      <td>Kothanur</td>\n",
       "      <td>4.0</td>\n",
       "      <td>NaN</td>\n",
       "      <td>1200.0</td>\n",
       "      <td>2.0</td>\n",
       "      <td>1.0</td>\n",
       "      <td>51.00</td>\n",
       "    </tr>\n",
       "  </tbody>\n",
       "</table>\n",
       "</div>"
      ],
      "text/plain": [
       "              area_type   availability                  location  size  \\\n",
       "0  Super built-up  Area         19-Dec  Electronic City Phase II   4.0   \n",
       "1            Plot  Area  Ready To Move          Chikka Tirupathi   6.0   \n",
       "2        Built-up  Area  Ready To Move               Uttarahalli   5.0   \n",
       "3  Super built-up  Area  Ready To Move        Lingadheeranahalli   5.0   \n",
       "4  Super built-up  Area  Ready To Move                  Kothanur   4.0   \n",
       "\n",
       "   society  total_sqft  bath  balcony   price  \n",
       "0  Coomee       1056.0   2.0      1.0   39.07  \n",
       "1  Theanmp      2600.0   5.0      3.0  120.00  \n",
       "2      NaN      1440.0   2.0      3.0   62.00  \n",
       "3  Soiewre      1521.0   3.0      1.0   95.00  \n",
       "4      NaN      1200.0   2.0      1.0   51.00  "
      ]
     },
     "execution_count": 22,
     "metadata": {},
     "output_type": "execute_result"
    }
   ],
   "source": [
    "# Transform total_sqft to numerical feature\n",
    "def convert_to_sqft(x):\n",
    "    try:\n",
    "      if ' - ' in x:\n",
    "          a, b = x.split(' - ')\n",
    "          return (float(a) + float(b))/2\n",
    "      else:\n",
    "          return float(x)\n",
    "    except:\n",
    "      return None\n",
    "\n",
    "# Applying the transformation to total_sqft feature\n",
    "df_modified['total_sqft'] = df_modified['total_sqft'].apply(convert_to_sqft)\n",
    "df_modified = df_modified[~df_modified['total_sqft'].isna()]\n",
    "df_modified.head()"
   ]
  },
  {
   "cell_type": "code",
   "execution_count": 23,
   "metadata": {
    "colab": {
     "base_uri": "https://localhost:8080/",
     "height": 636
    },
    "id": "WLNRNNSDPXet",
    "outputId": "86252c4a-7d83-4319-bf3b-01069450f990"
   },
   "outputs": [
    {
     "data": {
      "text/plain": [
       "Text(0.5, 1.0, 'Histogram of Total_sqft feature')"
      ]
     },
     "execution_count": 23,
     "metadata": {},
     "output_type": "execute_result"
    },
    {
     "data": {
      "image/png": "[encoded data removed]",
      "text/plain": [
       "<Figure size 720x720 with 1 Axes>"
      ]
     },
     "metadata": {},
     "output_type": "display_data"
    }
   ],
   "source": [
    "# Histogram of total_sqft feature\n",
    "plt.figure(figsize=(10,10))\n",
    "sns.histplot(x=df_modified['total_sqft'])\n",
    "plt.title('Histogram of Total_sqft feature', fontsize=15)"
   ]
  },
  {
   "cell_type": "code",
   "execution_count": 24,
   "metadata": {
    "colab": {
     "base_uri": "https://localhost:8080/",
     "height": 632
    },
    "id": "mNBKBaAqLctU",
    "outputId": "3c1a74e2-1862-4bc1-e3f3-e9b4576a2149"
   },
   "outputs": [
    {
     "data": {
      "image/png": "[encoded data removed]",
      "text/plain": [
       "<Figure size 1440x720 with 1 Axes>"
      ]
     },
     "metadata": {},
     "output_type": "display_data"
    }
   ],
   "source": [
    "# Plot size of house vs the total_sqft\n",
    "plt.figure(figsize=(20,10))\n",
    "plt.style.use('seaborn-dark')\n",
    "\n",
    "sns.scatterplot(x='total_sqft', y='price', hue='area_type', data=df_modified)\n",
    "plt.title('Price of house vs Area in sq.ft', fontsize=20)\n",
    "plt.xlabel('Area in sq.ft', fontsize=20)\n",
    "plt.ylabel('Price of house', fontsize=20)\n",
    "plt.grid(True)"
   ]
  },
  {
   "cell_type": "code",
   "execution_count": 25,
   "metadata": {
    "colab": {
     "base_uri": "https://localhost:8080/",
     "height": 632
    },
    "id": "3bD8vvw9qMYm",
    "outputId": "5e926917-fec3-49ee-c1d4-06bbed034be6"
   },
   "outputs": [
    {
     "data": {
      "image/png": "[encoded data removed]",
      "text/plain": [
       "<Figure size 1440x720 with 1 Axes>"
      ]
     },
     "metadata": {},
     "output_type": "display_data"
    }
   ],
   "source": [
    "# Plot size of house vs the total_sqft\n",
    "plt.figure(figsize=(20,10))\n",
    "\n",
    "sns.scatterplot(x='size', y='total_sqft', hue='area_type', data=df_modified)\n",
    "plt.title('Number of rooms vs Area in sq.ft', fontsize=20)\n",
    "plt.xlabel('Number of rooms', fontsize=20)\n",
    "plt.xticks(ticks=df_modified['size'].unique(), labels=df_modified['size'].unique())\n",
    "plt.ylabel('Area (sq.ft)', fontsize=20)\n",
    "plt.grid(True)"
   ]
  },
  {
   "cell_type": "markdown",
   "metadata": {
    "id": "ObgEocL4GSim"
   },
   "source": [
    "**Insights:**\n",
    "* From the histogram, we find that the `total_sqft` feature fairly follows a Log-Normal distribution. (histogram is created after taking log of values and it approximately follows normal distribution hence log-normal)\n",
    "\n",
    "* From the 2nd graph, it is clear that there are some records where the area of house is absurdly high and mostly for lesser number of rooms.\n",
    "Most of these outliers are plot area type (land area without any construction). Even the super-built up areas can't be such high values. So we can drop these records as they're less in count.\n",
    "\n",
    "* Also as the number of rooms increase the area in sq.ft should also increase but the graph doesn't reflect that. It also indicates that area in sq.ft depends on the `area_type`. `total_sqft` can be less for `plot area` type and still have more rooms because in Bangalore houses are usually multifloored. Visit this [link](https://www.99acres.com/independent-house-in-doddanagamangala-bangalore-south-ffid) which reinforces the above fact.\n"
   ]
  },
  {
   "cell_type": "markdown",
   "metadata": {
    "id": "kzHldb1Lerqr"
   },
   "source": [
    "## Exploring the Categorical Features\n",
    "\n",
    "The Categorical features in the dataset are: **`area_type, availability, location, society`** (as per `df.info()`)\n",
    "\n",
    "\n",
    "\n"
   ]
  },
  {
   "cell_type": "markdown",
   "metadata": {
    "id": "RrTSmP8nDT9y"
   },
   "source": [
    "### Area type\n",
    "\n",
    "There are 4 types of area in this feature namely:\n",
    "* Plot area\n",
    "* Carpet area\n",
    "* Built-up area\n",
    "* Super Built-up area\n",
    "\n",
    "You can read up about these area types from this blog: [Link](https://www.magicbricks.com/blog/what-is-carpet-area/114783.html#:~:text=According%20to%20Real%20Estate%20Regulatory,covered%20by%20the%20internal%20partition)"
   ]
  },
  {
   "cell_type": "code",
   "execution_count": 26,
   "metadata": {
    "colab": {
     "base_uri": "https://localhost:8080/"
    },
    "id": "xYra4o8oDUAu",
    "outputId": "4500d035-93a7-4cdd-c093-9426af75afa4"
   },
   "outputs": [
    {
     "data": {
      "text/plain": [
       "array(['Super built-up  Area', 'Plot  Area', 'Built-up  Area',\n",
       "       'Carpet  Area'], dtype=object)"
      ]
     },
     "execution_count": 26,
     "metadata": {},
     "output_type": "execute_result"
    }
   ],
   "source": [
    "# Finding the labels in area_type\n",
    "df['area_type'].unique()"
   ]
  },
  {
   "cell_type": "code",
   "execution_count": 27,
   "metadata": {
    "colab": {
     "base_uri": "https://localhost:8080/",
     "height": 606
    },
    "id": "ebPsJpVcDUHu",
    "outputId": "5fea51e4-4608-4066-8649-fa6069949710"
   },
   "outputs": [
    {
     "data": {
      "image/png": "[encoded data removed]",
      "text/plain": [
       "<Figure size 720x720 with 1 Axes>"
      ]
     },
     "metadata": {},
     "output_type": "display_data"
    }
   ],
   "source": [
    "# Bar plot of area_type features\n",
    "plt.figure(figsize=(10,10))\n",
    "sns.countplot(x='area_type', data=df_modified)\n",
    "plt.xlabel('Area type', fontsize=15)\n",
    "plt.ylabel('Count', fontsize=15)\n",
    "plt.grid(True)"
   ]
  },
  {
   "cell_type": "markdown",
   "metadata": {
    "id": "pcEwMLFyDULQ"
   },
   "source": [
    "**Insights**\n",
    "* From the countplot, we know that most of area mentioned in the dataset are of the type **Super Built-up/ Built-up**. "
   ]
  },
  {
   "cell_type": "markdown",
   "metadata": {
    "id": "rhA78k_PDUPU"
   },
   "source": [
    "### Location\n",
    "\n",
    "This is feature define the locality where the house is located. This is feature influences the price of a house a lot."
   ]
  },
  {
   "cell_type": "code",
   "execution_count": 28,
   "metadata": {
    "colab": {
     "base_uri": "https://localhost:8080/"
    },
    "id": "G4R1RahVDUSo",
    "outputId": "02a118be-4b62-4f11-9c67-8b3dab20dcd6"
   },
   "outputs": [
    {
     "name": "stdout",
     "output_type": "stream",
     "text": [
      "There are 1299 in this dataset namely: \n",
      "\n",
      "['Electronic City Phase II' 'Chikka Tirupathi' 'Uttarahalli' ...\n",
      " '12th cross srinivas nagar banshankari 3rd stage' 'Havanur extension'\n",
      " 'Abshot Layout']\n"
     ]
    }
   ],
   "source": [
    "# Unique locations in the dataset\n",
    "unique_locations = df_modified['location'].unique()\n",
    "print(f'There are {len(unique_locations)} in this dataset namely: \\n\\n{unique_locations}')"
   ]
  },
  {
   "cell_type": "code",
   "execution_count": 29,
   "metadata": {
    "colab": {
     "base_uri": "https://localhost:8080/"
    },
    "id": "yhBIbwHDbfVr",
    "outputId": "3edfc641-f401-4397-ab7a-d5e0893ee9b9"
   },
   "outputs": [
    {
     "name": "stdout",
     "output_type": "stream",
     "text": [
      "Top 5 most frequent locations in the dataset are: \n",
      "\n",
      "['Whitefield', 'Sarjapur  Road', 'Electronic City', 'Kanakpura Road', 'Thanisandra']\n",
      "\n",
      "Frequency counts: \n",
      "\n",
      "Whitefield                   532\n",
      "Sarjapur  Road               392\n",
      "Electronic City              301\n",
      "Kanakpura Road               264\n",
      "Thanisandra                  231\n",
      "                            ... \n",
      "Indiranagar HAL 2nd Stage      1\n",
      "Maruthi HBCS Layout            1\n",
      "K R C kothanur                 1\n",
      "1Channasandra                  1\n",
      "Abshot Layout                  1\n",
      "Name: location, Length: 1298, dtype: int64\n"
     ]
    }
   ],
   "source": [
    "# Frequency of locations in dataset\n",
    "loc_counts = df_modified['location'].value_counts()\n",
    "print(f'Top 5 most frequent locations in the dataset are: \\n\\n{list(loc_counts[:5].index)}\\n')\n",
    "print(f'Frequency counts: \\n\\n{loc_counts}')"
   ]
  },
  {
   "cell_type": "markdown",
   "metadata": {
    "id": "5tUkn7SLcNj2"
   },
   "source": [
    "**Insights:**\n",
    "\n",
    "* There are locations in the dataset which appear very less number of times. Later we need to encode the `location` feature and encoding `1305` unique locations will be difficult. So, what we can do is group less frequent locations (count<10) in 1 category called `Other` "
   ]
  },
  {
   "cell_type": "code",
   "execution_count": 30,
   "metadata": {
    "colab": {
     "base_uri": "https://localhost:8080/",
     "height": 363
    },
    "id": "s64DZZEzdj-y",
    "outputId": "ad192af1-f924-4e9f-a473-eb073b18bbe1"
   },
   "outputs": [
    {
     "data": {
      "text/html": [
       "<div>\n",
       "<style scoped>\n",
       "    .dataframe tbody tr th:only-of-type {\n",
       "        vertical-align: middle;\n",
       "    }\n",
       "\n",
       "    .dataframe tbody tr th {\n",
       "        vertical-align: top;\n",
       "    }\n",
       "\n",
       "    .dataframe thead th {\n",
       "        text-align: right;\n",
       "    }\n",
       "</style>\n",
       "<table border=\"1\" class=\"dataframe\">\n",
       "  <thead>\n",
       "    <tr style=\"text-align: right;\">\n",
       "      <th></th>\n",
       "      <th>area_type</th>\n",
       "      <th>availability</th>\n",
       "      <th>location</th>\n",
       "      <th>size</th>\n",
       "      <th>society</th>\n",
       "      <th>total_sqft</th>\n",
       "      <th>bath</th>\n",
       "      <th>balcony</th>\n",
       "      <th>price</th>\n",
       "    </tr>\n",
       "  </thead>\n",
       "  <tbody>\n",
       "    <tr>\n",
       "      <th>0</th>\n",
       "      <td>Super built-up  Area</td>\n",
       "      <td>19-Dec</td>\n",
       "      <td>Electronic City Phase II</td>\n",
       "      <td>4.0</td>\n",
       "      <td>Coomee</td>\n",
       "      <td>1056.0</td>\n",
       "      <td>2.0</td>\n",
       "      <td>1.0</td>\n",
       "      <td>39.07</td>\n",
       "    </tr>\n",
       "    <tr>\n",
       "      <th>1</th>\n",
       "      <td>Plot  Area</td>\n",
       "      <td>Ready To Move</td>\n",
       "      <td>Chikka Tirupathi</td>\n",
       "      <td>6.0</td>\n",
       "      <td>Theanmp</td>\n",
       "      <td>2600.0</td>\n",
       "      <td>5.0</td>\n",
       "      <td>3.0</td>\n",
       "      <td>120.00</td>\n",
       "    </tr>\n",
       "    <tr>\n",
       "      <th>2</th>\n",
       "      <td>Built-up  Area</td>\n",
       "      <td>Ready To Move</td>\n",
       "      <td>Uttarahalli</td>\n",
       "      <td>5.0</td>\n",
       "      <td>NaN</td>\n",
       "      <td>1440.0</td>\n",
       "      <td>2.0</td>\n",
       "      <td>3.0</td>\n",
       "      <td>62.00</td>\n",
       "    </tr>\n",
       "    <tr>\n",
       "      <th>3</th>\n",
       "      <td>Super built-up  Area</td>\n",
       "      <td>Ready To Move</td>\n",
       "      <td>Lingadheeranahalli</td>\n",
       "      <td>5.0</td>\n",
       "      <td>Soiewre</td>\n",
       "      <td>1521.0</td>\n",
       "      <td>3.0</td>\n",
       "      <td>1.0</td>\n",
       "      <td>95.00</td>\n",
       "    </tr>\n",
       "    <tr>\n",
       "      <th>4</th>\n",
       "      <td>Super built-up  Area</td>\n",
       "      <td>Ready To Move</td>\n",
       "      <td>Kothanur</td>\n",
       "      <td>4.0</td>\n",
       "      <td>NaN</td>\n",
       "      <td>1200.0</td>\n",
       "      <td>2.0</td>\n",
       "      <td>1.0</td>\n",
       "      <td>51.00</td>\n",
       "    </tr>\n",
       "    <tr>\n",
       "      <th>5</th>\n",
       "      <td>Super built-up  Area</td>\n",
       "      <td>Ready To Move</td>\n",
       "      <td>Whitefield</td>\n",
       "      <td>4.0</td>\n",
       "      <td>DuenaTa</td>\n",
       "      <td>1170.0</td>\n",
       "      <td>2.0</td>\n",
       "      <td>1.0</td>\n",
       "      <td>38.00</td>\n",
       "    </tr>\n",
       "    <tr>\n",
       "      <th>6</th>\n",
       "      <td>Super built-up  Area</td>\n",
       "      <td>18-May</td>\n",
       "      <td>Old Airport Road</td>\n",
       "      <td>6.0</td>\n",
       "      <td>Jaades</td>\n",
       "      <td>2732.0</td>\n",
       "      <td>4.0</td>\n",
       "      <td>NaN</td>\n",
       "      <td>204.00</td>\n",
       "    </tr>\n",
       "    <tr>\n",
       "      <th>7</th>\n",
       "      <td>Super built-up  Area</td>\n",
       "      <td>Ready To Move</td>\n",
       "      <td>Rajaji Nagar</td>\n",
       "      <td>6.0</td>\n",
       "      <td>Brway G</td>\n",
       "      <td>3300.0</td>\n",
       "      <td>4.0</td>\n",
       "      <td>NaN</td>\n",
       "      <td>600.00</td>\n",
       "    </tr>\n",
       "    <tr>\n",
       "      <th>8</th>\n",
       "      <td>Super built-up  Area</td>\n",
       "      <td>Ready To Move</td>\n",
       "      <td>Marathahalli</td>\n",
       "      <td>5.0</td>\n",
       "      <td>NaN</td>\n",
       "      <td>1310.0</td>\n",
       "      <td>3.0</td>\n",
       "      <td>1.0</td>\n",
       "      <td>63.25</td>\n",
       "    </tr>\n",
       "    <tr>\n",
       "      <th>9</th>\n",
       "      <td>Plot  Area</td>\n",
       "      <td>Ready To Move</td>\n",
       "      <td>Other</td>\n",
       "      <td>8.0</td>\n",
       "      <td>NaN</td>\n",
       "      <td>1020.0</td>\n",
       "      <td>6.0</td>\n",
       "      <td>NaN</td>\n",
       "      <td>370.00</td>\n",
       "    </tr>\n",
       "  </tbody>\n",
       "</table>\n",
       "</div>"
      ],
      "text/plain": [
       "              area_type   availability                  location  size  \\\n",
       "0  Super built-up  Area         19-Dec  Electronic City Phase II   4.0   \n",
       "1            Plot  Area  Ready To Move          Chikka Tirupathi   6.0   \n",
       "2        Built-up  Area  Ready To Move               Uttarahalli   5.0   \n",
       "3  Super built-up  Area  Ready To Move        Lingadheeranahalli   5.0   \n",
       "4  Super built-up  Area  Ready To Move                  Kothanur   4.0   \n",
       "5  Super built-up  Area  Ready To Move                Whitefield   4.0   \n",
       "6  Super built-up  Area         18-May          Old Airport Road   6.0   \n",
       "7  Super built-up  Area  Ready To Move              Rajaji Nagar   6.0   \n",
       "8  Super built-up  Area  Ready To Move              Marathahalli   5.0   \n",
       "9            Plot  Area  Ready To Move                     Other   8.0   \n",
       "\n",
       "   society  total_sqft  bath  balcony   price  \n",
       "0  Coomee       1056.0   2.0      1.0   39.07  \n",
       "1  Theanmp      2600.0   5.0      3.0  120.00  \n",
       "2      NaN      1440.0   2.0      3.0   62.00  \n",
       "3  Soiewre      1521.0   3.0      1.0   95.00  \n",
       "4      NaN      1200.0   2.0      1.0   51.00  \n",
       "5  DuenaTa      1170.0   2.0      1.0   38.00  \n",
       "6  Jaades       2732.0   4.0      NaN  204.00  \n",
       "7  Brway G      3300.0   4.0      NaN  600.00  \n",
       "8      NaN      1310.0   3.0      1.0   63.25  \n",
       "9      NaN      1020.0   6.0      NaN  370.00  "
      ]
     },
     "execution_count": 30,
     "metadata": {},
     "output_type": "execute_result"
    }
   ],
   "source": [
    "# Gathering location which have frequency less than 10\n",
    "less_freq_loc = list(loc_counts[loc_counts<=10].index)\n",
    "df_modified.loc[:, 'location'] = df_modified['location'].apply(lambda x: 'Other' if x in less_freq_loc else x)\n",
    "df_modified.head(10)"
   ]
  },
  {
   "cell_type": "markdown",
   "metadata": {
    "id": "LF-upXi8oRu5"
   },
   "source": [
    "### Availability & Society\n",
    "\n",
    "These features define where the house will be available and name of the society respectively.\n",
    "\n",
    "I think these features don't influence the price. So I'll be dropping them. Also you should look at society names, not even one makes sense!!😂"
   ]
  },
  {
   "cell_type": "code",
   "execution_count": 31,
   "metadata": {
    "colab": {
     "base_uri": "https://localhost:8080/",
     "height": 363
    },
    "id": "MTEQSFiToRxY",
    "outputId": "8a8ecb66-6177-40b1-9fdc-f8bcbaee19cf"
   },
   "outputs": [
    {
     "data": {
      "text/html": [
       "<div>\n",
       "<style scoped>\n",
       "    .dataframe tbody tr th:only-of-type {\n",
       "        vertical-align: middle;\n",
       "    }\n",
       "\n",
       "    .dataframe tbody tr th {\n",
       "        vertical-align: top;\n",
       "    }\n",
       "\n",
       "    .dataframe thead th {\n",
       "        text-align: right;\n",
       "    }\n",
       "</style>\n",
       "<table border=\"1\" class=\"dataframe\">\n",
       "  <thead>\n",
       "    <tr style=\"text-align: right;\">\n",
       "      <th></th>\n",
       "      <th>area_type</th>\n",
       "      <th>location</th>\n",
       "      <th>size</th>\n",
       "      <th>total_sqft</th>\n",
       "      <th>bath</th>\n",
       "      <th>balcony</th>\n",
       "      <th>price</th>\n",
       "    </tr>\n",
       "  </thead>\n",
       "  <tbody>\n",
       "    <tr>\n",
       "      <th>0</th>\n",
       "      <td>Super built-up  Area</td>\n",
       "      <td>Electronic City Phase II</td>\n",
       "      <td>4.0</td>\n",
       "      <td>1056.0</td>\n",
       "      <td>2.0</td>\n",
       "      <td>1.0</td>\n",
       "      <td>39.07</td>\n",
       "    </tr>\n",
       "    <tr>\n",
       "      <th>1</th>\n",
       "      <td>Plot  Area</td>\n",
       "      <td>Chikka Tirupathi</td>\n",
       "      <td>6.0</td>\n",
       "      <td>2600.0</td>\n",
       "      <td>5.0</td>\n",
       "      <td>3.0</td>\n",
       "      <td>120.00</td>\n",
       "    </tr>\n",
       "    <tr>\n",
       "      <th>2</th>\n",
       "      <td>Built-up  Area</td>\n",
       "      <td>Uttarahalli</td>\n",
       "      <td>5.0</td>\n",
       "      <td>1440.0</td>\n",
       "      <td>2.0</td>\n",
       "      <td>3.0</td>\n",
       "      <td>62.00</td>\n",
       "    </tr>\n",
       "    <tr>\n",
       "      <th>3</th>\n",
       "      <td>Super built-up  Area</td>\n",
       "      <td>Lingadheeranahalli</td>\n",
       "      <td>5.0</td>\n",
       "      <td>1521.0</td>\n",
       "      <td>3.0</td>\n",
       "      <td>1.0</td>\n",
       "      <td>95.00</td>\n",
       "    </tr>\n",
       "    <tr>\n",
       "      <th>4</th>\n",
       "      <td>Super built-up  Area</td>\n",
       "      <td>Kothanur</td>\n",
       "      <td>4.0</td>\n",
       "      <td>1200.0</td>\n",
       "      <td>2.0</td>\n",
       "      <td>1.0</td>\n",
       "      <td>51.00</td>\n",
       "    </tr>\n",
       "    <tr>\n",
       "      <th>5</th>\n",
       "      <td>Super built-up  Area</td>\n",
       "      <td>Whitefield</td>\n",
       "      <td>4.0</td>\n",
       "      <td>1170.0</td>\n",
       "      <td>2.0</td>\n",
       "      <td>1.0</td>\n",
       "      <td>38.00</td>\n",
       "    </tr>\n",
       "    <tr>\n",
       "      <th>6</th>\n",
       "      <td>Super built-up  Area</td>\n",
       "      <td>Old Airport Road</td>\n",
       "      <td>6.0</td>\n",
       "      <td>2732.0</td>\n",
       "      <td>4.0</td>\n",
       "      <td>NaN</td>\n",
       "      <td>204.00</td>\n",
       "    </tr>\n",
       "    <tr>\n",
       "      <th>7</th>\n",
       "      <td>Super built-up  Area</td>\n",
       "      <td>Rajaji Nagar</td>\n",
       "      <td>6.0</td>\n",
       "      <td>3300.0</td>\n",
       "      <td>4.0</td>\n",
       "      <td>NaN</td>\n",
       "      <td>600.00</td>\n",
       "    </tr>\n",
       "    <tr>\n",
       "      <th>8</th>\n",
       "      <td>Super built-up  Area</td>\n",
       "      <td>Marathahalli</td>\n",
       "      <td>5.0</td>\n",
       "      <td>1310.0</td>\n",
       "      <td>3.0</td>\n",
       "      <td>1.0</td>\n",
       "      <td>63.25</td>\n",
       "    </tr>\n",
       "    <tr>\n",
       "      <th>9</th>\n",
       "      <td>Plot  Area</td>\n",
       "      <td>Other</td>\n",
       "      <td>8.0</td>\n",
       "      <td>1020.0</td>\n",
       "      <td>6.0</td>\n",
       "      <td>NaN</td>\n",
       "      <td>370.00</td>\n",
       "    </tr>\n",
       "  </tbody>\n",
       "</table>\n",
       "</div>"
      ],
      "text/plain": [
       "              area_type                  location  size  total_sqft  bath  \\\n",
       "0  Super built-up  Area  Electronic City Phase II   4.0      1056.0   2.0   \n",
       "1            Plot  Area          Chikka Tirupathi   6.0      2600.0   5.0   \n",
       "2        Built-up  Area               Uttarahalli   5.0      1440.0   2.0   \n",
       "3  Super built-up  Area        Lingadheeranahalli   5.0      1521.0   3.0   \n",
       "4  Super built-up  Area                  Kothanur   4.0      1200.0   2.0   \n",
       "5  Super built-up  Area                Whitefield   4.0      1170.0   2.0   \n",
       "6  Super built-up  Area          Old Airport Road   6.0      2732.0   4.0   \n",
       "7  Super built-up  Area              Rajaji Nagar   6.0      3300.0   4.0   \n",
       "8  Super built-up  Area              Marathahalli   5.0      1310.0   3.0   \n",
       "9            Plot  Area                     Other   8.0      1020.0   6.0   \n",
       "\n",
       "   balcony   price  \n",
       "0      1.0   39.07  \n",
       "1      3.0  120.00  \n",
       "2      3.0   62.00  \n",
       "3      1.0   95.00  \n",
       "4      1.0   51.00  \n",
       "5      1.0   38.00  \n",
       "6      NaN  204.00  \n",
       "7      NaN  600.00  \n",
       "8      1.0   63.25  \n",
       "9      NaN  370.00  "
      ]
     },
     "execution_count": 31,
     "metadata": {},
     "output_type": "execute_result"
    }
   ],
   "source": [
    "# Dropping availability and society features\n",
    "df_modified.drop(['availability', 'society'], axis=1, inplace=True)\n",
    "df_modified.head(10)"
   ]
  },
  {
   "cell_type": "markdown",
   "metadata": {
    "id": "PSbu0KHqoR30"
   },
   "source": [
    "# Feature Engineering & Data cleaning\n",
    "\n",
    "There is a metric which is common in real-estate industry: `Price per sq.ft`. I'll be adding this feature to identify and remove the outliers.\n",
    "\n",
    "Also, we'll  have to handle the missing values."
   ]
  },
  {
   "cell_type": "markdown",
   "metadata": {
    "id": "4MjkJvL-at_K"
   },
   "source": [
    "## Outliers"
   ]
  },
  {
   "cell_type": "markdown",
   "metadata": {
    "id": "zXo-zuic5h5j"
   },
   "source": [
    "### Total_sqft\n",
    "\n",
    "I feel 10000 sqft is the threshold beyond which any value can be considered outliers. So we'll remove those outliers"
   ]
  },
  {
   "cell_type": "code",
   "execution_count": 32,
   "metadata": {
    "colab": {
     "base_uri": "https://localhost:8080/"
    },
    "id": "woYyyyN77L4q",
    "outputId": "dc18b299-1dd0-4901-971b-151bd04af9e1"
   },
   "outputs": [
    {
     "data": {
      "text/plain": [
       "(13159, 7)"
      ]
     },
     "execution_count": 32,
     "metadata": {},
     "output_type": "execute_result"
    }
   ],
   "source": [
    "df_modified = df_modified[df_modified['total_sqft']<10000]\n",
    "df_modified.shape"
   ]
  },
  {
   "cell_type": "markdown",
   "metadata": {
    "id": "c4PR9VGuoR7B"
   },
   "source": [
    "### Price_per_sqft\n",
    "\n",
    "* This feature defines the price of house per sq.ft of the area. This feature might help us remove outliers.\n",
    "\n",
    "* What we can do is define a function which adds `price_per_sqft` feature and uses that remove outliers from the dataset."
   ]
  },
  {
   "cell_type": "code",
   "execution_count": 33,
   "metadata": {
    "colab": {
     "base_uri": "https://localhost:8080/",
     "height": 206
    },
    "id": "9h0_hhuioR-D",
    "outputId": "eaab11bf-44f6-4d7a-d3a4-34f024a5fe67"
   },
   "outputs": [
    {
     "data": {
      "text/html": [
       "<div>\n",
       "<style scoped>\n",
       "    .dataframe tbody tr th:only-of-type {\n",
       "        vertical-align: middle;\n",
       "    }\n",
       "\n",
       "    .dataframe tbody tr th {\n",
       "        vertical-align: top;\n",
       "    }\n",
       "\n",
       "    .dataframe thead th {\n",
       "        text-align: right;\n",
       "    }\n",
       "</style>\n",
       "<table border=\"1\" class=\"dataframe\">\n",
       "  <thead>\n",
       "    <tr style=\"text-align: right;\">\n",
       "      <th></th>\n",
       "      <th>area_type</th>\n",
       "      <th>location</th>\n",
       "      <th>size</th>\n",
       "      <th>total_sqft</th>\n",
       "      <th>bath</th>\n",
       "      <th>balcony</th>\n",
       "      <th>price</th>\n",
       "      <th>price_per_sqft</th>\n",
       "    </tr>\n",
       "  </thead>\n",
       "  <tbody>\n",
       "    <tr>\n",
       "      <th>0</th>\n",
       "      <td>Super built-up  Area</td>\n",
       "      <td>Electronic City Phase II</td>\n",
       "      <td>4.0</td>\n",
       "      <td>1056.0</td>\n",
       "      <td>2.0</td>\n",
       "      <td>1.0</td>\n",
       "      <td>39.07</td>\n",
       "      <td>3699.81</td>\n",
       "    </tr>\n",
       "    <tr>\n",
       "      <th>1</th>\n",
       "      <td>Plot  Area</td>\n",
       "      <td>Chikka Tirupathi</td>\n",
       "      <td>6.0</td>\n",
       "      <td>2600.0</td>\n",
       "      <td>5.0</td>\n",
       "      <td>3.0</td>\n",
       "      <td>120.00</td>\n",
       "      <td>4615.38</td>\n",
       "    </tr>\n",
       "    <tr>\n",
       "      <th>2</th>\n",
       "      <td>Built-up  Area</td>\n",
       "      <td>Uttarahalli</td>\n",
       "      <td>5.0</td>\n",
       "      <td>1440.0</td>\n",
       "      <td>2.0</td>\n",
       "      <td>3.0</td>\n",
       "      <td>62.00</td>\n",
       "      <td>4305.56</td>\n",
       "    </tr>\n",
       "    <tr>\n",
       "      <th>3</th>\n",
       "      <td>Super built-up  Area</td>\n",
       "      <td>Lingadheeranahalli</td>\n",
       "      <td>5.0</td>\n",
       "      <td>1521.0</td>\n",
       "      <td>3.0</td>\n",
       "      <td>1.0</td>\n",
       "      <td>95.00</td>\n",
       "      <td>6245.89</td>\n",
       "    </tr>\n",
       "    <tr>\n",
       "      <th>4</th>\n",
       "      <td>Super built-up  Area</td>\n",
       "      <td>Kothanur</td>\n",
       "      <td>4.0</td>\n",
       "      <td>1200.0</td>\n",
       "      <td>2.0</td>\n",
       "      <td>1.0</td>\n",
       "      <td>51.00</td>\n",
       "      <td>4250.00</td>\n",
       "    </tr>\n",
       "  </tbody>\n",
       "</table>\n",
       "</div>"
      ],
      "text/plain": [
       "              area_type                  location  size  total_sqft  bath  \\\n",
       "0  Super built-up  Area  Electronic City Phase II   4.0      1056.0   2.0   \n",
       "1            Plot  Area          Chikka Tirupathi   6.0      2600.0   5.0   \n",
       "2        Built-up  Area               Uttarahalli   5.0      1440.0   2.0   \n",
       "3  Super built-up  Area        Lingadheeranahalli   5.0      1521.0   3.0   \n",
       "4  Super built-up  Area                  Kothanur   4.0      1200.0   2.0   \n",
       "\n",
       "   balcony   price  price_per_sqft  \n",
       "0      1.0   39.07         3699.81  \n",
       "1      3.0  120.00         4615.38  \n",
       "2      3.0   62.00         4305.56  \n",
       "3      1.0   95.00         6245.89  \n",
       "4      1.0   51.00         4250.00  "
      ]
     },
     "execution_count": 33,
     "metadata": {},
     "output_type": "execute_result"
    }
   ],
   "source": [
    "# Adding a new feature price_per_sqft\n",
    "df_modified.loc[:, 'price_per_sqft'] = np.round((df_modified['price']*100000)/df_modified['total_sqft'], 2)\n",
    "df_modified.head()"
   ]
  },
  {
   "cell_type": "code",
   "execution_count": 34,
   "metadata": {
    "colab": {
     "base_uri": "https://localhost:8080/",
     "height": 606
    },
    "id": "FNrDketloSBm",
    "outputId": "30a6ccf7-154f-48e9-b240-6d00762e9600"
   },
   "outputs": [
    {
     "data": {
      "image/png": "[encoded data removed]",
      "text/plain": [
       "<Figure size 720x720 with 4 Axes>"
      ]
     },
     "metadata": {},
     "output_type": "display_data"
    }
   ],
   "source": [
    "# Plot price_per_sqft vs area_type\n",
    "groups = df_modified.groupby('area_type')['price_per_sqft']\n",
    "\n",
    "fig, axes = plt.subplots(nrows=2, ncols=2, figsize = (10,10))\n",
    "idx = list(zip([0,0,1,1],[0,1,0,1]))\n",
    "\n",
    "for i, grp in enumerate(groups):\n",
    "  row, col = idx[i]\n",
    "  axes[row, col].hist(np.log(grp[1].values), bins=50)\n",
    "  axes[row, col].set_xlabel(grp[0], fontsize=15)"
   ]
  },
  {
   "cell_type": "markdown",
   "metadata": {
    "id": "F_IFPum1otl0"
   },
   "source": [
    "**Insights:**\n",
    "\n",
    "* If we plot the histogram of log of `price_per_sqft` feature based on the `area_type`, the distribution seems to approximately normal for each `area_type`. Also, there are presence of outliers which can removed by using the function below."
   ]
  },
  {
   "cell_type": "code",
   "execution_count": 35,
   "metadata": {
    "colab": {
     "base_uri": "https://localhost:8080/",
     "height": 241
    },
    "id": "e7SyYjgaWWc_",
    "outputId": "545a44cb-f143-4c42-8416-73a5c14bc6ed"
   },
   "outputs": [
    {
     "name": "stdout",
     "output_type": "stream",
     "text": [
      "Shape of the dataset: (13159, 8)\n",
      "New shape of the dataset: (7989, 8)\n"
     ]
    },
    {
     "data": {
      "text/html": [
       "<div>\n",
       "<style scoped>\n",
       "    .dataframe tbody tr th:only-of-type {\n",
       "        vertical-align: middle;\n",
       "    }\n",
       "\n",
       "    .dataframe tbody tr th {\n",
       "        vertical-align: top;\n",
       "    }\n",
       "\n",
       "    .dataframe thead th {\n",
       "        text-align: right;\n",
       "    }\n",
       "</style>\n",
       "<table border=\"1\" class=\"dataframe\">\n",
       "  <thead>\n",
       "    <tr style=\"text-align: right;\">\n",
       "      <th></th>\n",
       "      <th>area_type</th>\n",
       "      <th>location</th>\n",
       "      <th>size</th>\n",
       "      <th>total_sqft</th>\n",
       "      <th>bath</th>\n",
       "      <th>balcony</th>\n",
       "      <th>price</th>\n",
       "      <th>price_per_sqft</th>\n",
       "    </tr>\n",
       "  </thead>\n",
       "  <tbody>\n",
       "    <tr>\n",
       "      <th>0</th>\n",
       "      <td>Super built-up  Area</td>\n",
       "      <td>Electronic City Phase II</td>\n",
       "      <td>4.0</td>\n",
       "      <td>1056.0</td>\n",
       "      <td>2.0</td>\n",
       "      <td>1.0</td>\n",
       "      <td>39.07</td>\n",
       "      <td>3699.81</td>\n",
       "    </tr>\n",
       "    <tr>\n",
       "      <th>2</th>\n",
       "      <td>Built-up  Area</td>\n",
       "      <td>Uttarahalli</td>\n",
       "      <td>5.0</td>\n",
       "      <td>1440.0</td>\n",
       "      <td>2.0</td>\n",
       "      <td>3.0</td>\n",
       "      <td>62.00</td>\n",
       "      <td>4305.56</td>\n",
       "    </tr>\n",
       "    <tr>\n",
       "      <th>3</th>\n",
       "      <td>Super built-up  Area</td>\n",
       "      <td>Lingadheeranahalli</td>\n",
       "      <td>5.0</td>\n",
       "      <td>1521.0</td>\n",
       "      <td>3.0</td>\n",
       "      <td>1.0</td>\n",
       "      <td>95.00</td>\n",
       "      <td>6245.89</td>\n",
       "    </tr>\n",
       "    <tr>\n",
       "      <th>6</th>\n",
       "      <td>Super built-up  Area</td>\n",
       "      <td>Old Airport Road</td>\n",
       "      <td>6.0</td>\n",
       "      <td>2732.0</td>\n",
       "      <td>4.0</td>\n",
       "      <td>NaN</td>\n",
       "      <td>204.00</td>\n",
       "      <td>7467.06</td>\n",
       "    </tr>\n",
       "    <tr>\n",
       "      <th>8</th>\n",
       "      <td>Super built-up  Area</td>\n",
       "      <td>Marathahalli</td>\n",
       "      <td>5.0</td>\n",
       "      <td>1310.0</td>\n",
       "      <td>3.0</td>\n",
       "      <td>1.0</td>\n",
       "      <td>63.25</td>\n",
       "      <td>4828.24</td>\n",
       "    </tr>\n",
       "  </tbody>\n",
       "</table>\n",
       "</div>"
      ],
      "text/plain": [
       "              area_type                  location  size  total_sqft  bath  \\\n",
       "0  Super built-up  Area  Electronic City Phase II   4.0      1056.0   2.0   \n",
       "2        Built-up  Area               Uttarahalli   5.0      1440.0   2.0   \n",
       "3  Super built-up  Area        Lingadheeranahalli   5.0      1521.0   3.0   \n",
       "6  Super built-up  Area          Old Airport Road   6.0      2732.0   4.0   \n",
       "8  Super built-up  Area              Marathahalli   5.0      1310.0   3.0   \n",
       "\n",
       "   balcony   price  price_per_sqft  \n",
       "0      1.0   39.07         3699.81  \n",
       "2      3.0   62.00         4305.56  \n",
       "3      1.0   95.00         6245.89  \n",
       "6      NaN  204.00         7467.06  \n",
       "8      1.0   63.25         4828.24  "
      ]
     },
     "execution_count": 35,
     "metadata": {},
     "output_type": "execute_result"
    }
   ],
   "source": [
    "# Function to remove outliers using price_per_sqft feature\n",
    "def remove_outliers(df):\n",
    "  area_outlier_idx = []\n",
    "  location_outlier_idx = []\n",
    "\n",
    "  # removing outliers based on area_type\n",
    "  for key1, group1 in df.groupby('area_type'):\n",
    "    mean = np.mean(np.log(group1['price_per_sqft']))\n",
    "    std = np.std(np.log(group1['price_per_sqft']))\n",
    "    idxs1 = group1[(np.log(group1['price_per_sqft'])<(mean-std)) | (np.log(group1['price_per_sqft'])>(mean+std))].index.tolist()\n",
    "    area_outlier_idx.extend(idxs1)\n",
    "  \n",
    "  # removing outliers based on location\n",
    "  for key2, group2 in df.groupby('location'):\n",
    "    mean = np.mean(np.log(group2['price_per_sqft']))\n",
    "    std = np.std(np.log(group2['price_per_sqft']))\n",
    "    idxs2 = group2[(np.log(group2['price_per_sqft'])<(mean-std)) | (np.log(group2['price_per_sqft'])>(mean+std))].index.tolist()\n",
    "    location_outlier_idx.extend(idxs2)\n",
    "\n",
    "  outlier_idx = area_outlier_idx + location_outlier_idx\n",
    "  new_idx = np.setdiff1d(df.index, list(set(outlier_idx)))\n",
    "\n",
    "  return df.loc[new_idx]\n",
    "\n",
    "print(f'Shape of the dataset: {df_modified.shape}')\n",
    "df_modified = remove_outliers(df_modified)\n",
    "print(f'New shape of the dataset: {df_modified.shape}')\n",
    "df_modified.head()"
   ]
  },
  {
   "cell_type": "code",
   "execution_count": 36,
   "metadata": {
    "colab": {
     "base_uri": "https://localhost:8080/",
     "height": 606
    },
    "id": "Hwc-Ee4vA-zD",
    "outputId": "19053809-ef4e-404a-c073-953ef160d169"
   },
   "outputs": [
    {
     "data": {
      "image/png": "[encoded data removed]",
      "text/plain": [
       "<Figure size 720x720 with 4 Axes>"
      ]
     },
     "metadata": {},
     "output_type": "display_data"
    }
   ],
   "source": [
    "# Plot price_per_sqft vs area_type after the transformation\n",
    "groups = df_modified.groupby('area_type')['price_per_sqft']\n",
    "\n",
    "fig, axes = plt.subplots(nrows=2, ncols=2, figsize = (10,10))\n",
    "idx = list(zip([0,0,1,1],[0,1,0,1]))\n",
    "\n",
    "for i, grp in enumerate(groups):\n",
    "  row, col = idx[i]\n",
    "  axes[row, col].hist(np.log(grp[1].values), bins=50)\n",
    "  axes[row, col].set_xlabel(grp[0], fontsize=15)"
   ]
  },
  {
   "cell_type": "markdown",
   "metadata": {
    "id": "HvUQR8pRwHdl"
   },
   "source": [
    "## Missing values\n",
    "\n",
    "First we'll check the missing values in the dataset and if they're lesser in number we can drop them."
   ]
  },
  {
   "cell_type": "code",
   "execution_count": 37,
   "metadata": {
    "colab": {
     "base_uri": "https://localhost:8080/"
    },
    "id": "KsMqdDdaByFm",
    "outputId": "c0548df9-793b-4745-a24a-762a92c26bdf"
   },
   "outputs": [
    {
     "data": {
      "text/plain": [
       "area_type           0\n",
       "location            1\n",
       "size                0\n",
       "total_sqft          0\n",
       "bath                0\n",
       "balcony           208\n",
       "price               0\n",
       "price_per_sqft      0\n",
       "dtype: int64"
      ]
     },
     "execution_count": 37,
     "metadata": {},
     "output_type": "execute_result"
    }
   ],
   "source": [
    "# Check the missing value records\n",
    "df_modified.isna().sum()"
   ]
  },
  {
   "cell_type": "code",
   "execution_count": 38,
   "metadata": {
    "colab": {
     "base_uri": "https://localhost:8080/"
    },
    "id": "K5oRkP2HB4z5",
    "outputId": "aea63253-2562-44c6-e738-834e72e2b283"
   },
   "outputs": [
    {
     "name": "stdout",
     "output_type": "stream",
     "text": [
      "Dataset shape before: (7989, 8)\n",
      "Dataset shape after removing missing value records: (7780, 8)\n"
     ]
    }
   ],
   "source": [
    "# Since the number of missing value records are less we can drop them\n",
    "print(f'Dataset shape before: {df_modified.shape}')\n",
    "df_modified.dropna(inplace=True)\n",
    "print(f'Dataset shape after removing missing value records: {df_modified.shape}')"
   ]
  },
  {
   "cell_type": "markdown",
   "metadata": {
    "id": "xgSyWpx5CMwi"
   },
   "source": [
    "## Encoding the categorical variables\n",
    "\n",
    "We need to encode the \n",
    "* `location` feature which is a nominal categorical feature (which has no inherent order in it).\n",
    "* `area_type` feature which can be considered ordinal because in terms of area generally *__Plot area < Carpet area < Built-up area < Super Built-up area__*. \n",
    "\n",
    "We can One-hot encode these features when using algorithms like Linear regression, Lasso/Ridge, SVM etc. While we can Label encode them when using tree-base algorithms like Random Forest, XGBoost etc."
   ]
  },
  {
   "cell_type": "code",
   "execution_count": 39,
   "metadata": {
    "colab": {
     "base_uri": "https://localhost:8080/",
     "height": 206
    },
    "id": "REA6Y3DJMcfJ",
    "outputId": "a18e833a-bf14-448c-a0dd-64febc850593"
   },
   "outputs": [
    {
     "data": {
      "text/html": [
       "<div>\n",
       "<style scoped>\n",
       "    .dataframe tbody tr th:only-of-type {\n",
       "        vertical-align: middle;\n",
       "    }\n",
       "\n",
       "    .dataframe tbody tr th {\n",
       "        vertical-align: top;\n",
       "    }\n",
       "\n",
       "    .dataframe thead th {\n",
       "        text-align: right;\n",
       "    }\n",
       "</style>\n",
       "<table border=\"1\" class=\"dataframe\">\n",
       "  <thead>\n",
       "    <tr style=\"text-align: right;\">\n",
       "      <th></th>\n",
       "      <th>area_type</th>\n",
       "      <th>location</th>\n",
       "      <th>size</th>\n",
       "      <th>total_sqft</th>\n",
       "      <th>bath</th>\n",
       "      <th>balcony</th>\n",
       "      <th>price</th>\n",
       "    </tr>\n",
       "  </thead>\n",
       "  <tbody>\n",
       "    <tr>\n",
       "      <th>0</th>\n",
       "      <td>Super built-up  Area</td>\n",
       "      <td>Electronic City Phase II</td>\n",
       "      <td>4.0</td>\n",
       "      <td>1056.0</td>\n",
       "      <td>2.0</td>\n",
       "      <td>1.0</td>\n",
       "      <td>39.07</td>\n",
       "    </tr>\n",
       "    <tr>\n",
       "      <th>2</th>\n",
       "      <td>Built-up  Area</td>\n",
       "      <td>Uttarahalli</td>\n",
       "      <td>5.0</td>\n",
       "      <td>1440.0</td>\n",
       "      <td>2.0</td>\n",
       "      <td>3.0</td>\n",
       "      <td>62.00</td>\n",
       "    </tr>\n",
       "    <tr>\n",
       "      <th>3</th>\n",
       "      <td>Super built-up  Area</td>\n",
       "      <td>Lingadheeranahalli</td>\n",
       "      <td>5.0</td>\n",
       "      <td>1521.0</td>\n",
       "      <td>3.0</td>\n",
       "      <td>1.0</td>\n",
       "      <td>95.00</td>\n",
       "    </tr>\n",
       "    <tr>\n",
       "      <th>8</th>\n",
       "      <td>Super built-up  Area</td>\n",
       "      <td>Marathahalli</td>\n",
       "      <td>5.0</td>\n",
       "      <td>1310.0</td>\n",
       "      <td>3.0</td>\n",
       "      <td>1.0</td>\n",
       "      <td>63.25</td>\n",
       "    </tr>\n",
       "    <tr>\n",
       "      <th>10</th>\n",
       "      <td>Super built-up  Area</td>\n",
       "      <td>Whitefield</td>\n",
       "      <td>5.0</td>\n",
       "      <td>1800.0</td>\n",
       "      <td>2.0</td>\n",
       "      <td>2.0</td>\n",
       "      <td>70.00</td>\n",
       "    </tr>\n",
       "  </tbody>\n",
       "</table>\n",
       "</div>"
      ],
      "text/plain": [
       "               area_type                  location  size  total_sqft  bath  \\\n",
       "0   Super built-up  Area  Electronic City Phase II   4.0      1056.0   2.0   \n",
       "2         Built-up  Area               Uttarahalli   5.0      1440.0   2.0   \n",
       "3   Super built-up  Area        Lingadheeranahalli   5.0      1521.0   3.0   \n",
       "8   Super built-up  Area              Marathahalli   5.0      1310.0   3.0   \n",
       "10  Super built-up  Area                Whitefield   5.0      1800.0   2.0   \n",
       "\n",
       "    balcony  price  \n",
       "0       1.0  39.07  \n",
       "2       3.0  62.00  \n",
       "3       1.0  95.00  \n",
       "8       1.0  63.25  \n",
       "10      2.0  70.00  "
      ]
     },
     "execution_count": 39,
     "metadata": {},
     "output_type": "execute_result"
    }
   ],
   "source": [
    "# Dropping the price_per_sqft column\n",
    "df_modified.drop('price_per_sqft', axis=1, inplace=True)\n",
    "df_modified.head()"
   ]
  },
  {
   "cell_type": "markdown",
   "metadata": {
    "id": "fP_jhS66wor5"
   },
   "source": [
    "## Feature Selection\n",
    "\n",
    "We'll use feature_importances of Decision Tree to select important features of training data."
   ]
  },
  {
   "cell_type": "code",
   "execution_count": 40,
   "metadata": {
    "id": "0dvYJF17Rs-h"
   },
   "outputs": [],
   "source": [
    "# Features and target variables\n",
    "X = df_modified.drop('price', axis=1)\n",
    "y = df_modified['price']"
   ]
  },
  {
   "cell_type": "code",
   "execution_count": 41,
   "metadata": {
    "colab": {
     "base_uri": "https://localhost:8080/"
    },
    "id": "xUfetD8ovgBD",
    "outputId": "c68b8bc4-2f6e-49fd-dacb-d9782378d8f4"
   },
   "outputs": [
    {
     "name": "stdout",
     "output_type": "stream",
     "text": [
      "((6224, 6), (6224,)) ((1556, 6), (1556,))\n"
     ]
    }
   ],
   "source": [
    "# Splitting the dataset into training and test(hold-out) sets\n",
    "X_train, X_test, y_train, y_test = train_test_split(X, y, test_size=0.2, random_state=42)\n",
    "print((X_train.shape, y_train.shape), (X_test.shape, y_test.shape))"
   ]
  },
  {
   "cell_type": "code",
   "execution_count": 42,
   "metadata": {
    "colab": {
     "base_uri": "https://localhost:8080/",
     "height": 206
    },
    "id": "-SmZCmEmw35Q",
    "outputId": "5f756ed4-67d2-481d-8223-da704368e9b0"
   },
   "outputs": [
    {
     "data": {
      "text/html": [
       "<div>\n",
       "<style scoped>\n",
       "    .dataframe tbody tr th:only-of-type {\n",
       "        vertical-align: middle;\n",
       "    }\n",
       "\n",
       "    .dataframe tbody tr th {\n",
       "        vertical-align: top;\n",
       "    }\n",
       "\n",
       "    .dataframe thead th {\n",
       "        text-align: right;\n",
       "    }\n",
       "</style>\n",
       "<table border=\"1\" class=\"dataframe\">\n",
       "  <thead>\n",
       "    <tr style=\"text-align: right;\">\n",
       "      <th></th>\n",
       "      <th>area_type</th>\n",
       "      <th>location</th>\n",
       "      <th>size</th>\n",
       "      <th>total_sqft</th>\n",
       "      <th>bath</th>\n",
       "      <th>balcony</th>\n",
       "    </tr>\n",
       "  </thead>\n",
       "  <tbody>\n",
       "    <tr>\n",
       "      <th>12514</th>\n",
       "      <td>3.0</td>\n",
       "      <td>178.0</td>\n",
       "      <td>4.0</td>\n",
       "      <td>1020.0</td>\n",
       "      <td>2.0</td>\n",
       "      <td>2.0</td>\n",
       "    </tr>\n",
       "    <tr>\n",
       "      <th>4496</th>\n",
       "      <td>3.0</td>\n",
       "      <td>178.0</td>\n",
       "      <td>4.0</td>\n",
       "      <td>1100.0</td>\n",
       "      <td>2.0</td>\n",
       "      <td>2.0</td>\n",
       "    </tr>\n",
       "    <tr>\n",
       "      <th>11344</th>\n",
       "      <td>3.0</td>\n",
       "      <td>178.0</td>\n",
       "      <td>4.0</td>\n",
       "      <td>1000.0</td>\n",
       "      <td>2.0</td>\n",
       "      <td>1.0</td>\n",
       "    </tr>\n",
       "    <tr>\n",
       "      <th>4898</th>\n",
       "      <td>3.0</td>\n",
       "      <td>178.0</td>\n",
       "      <td>5.0</td>\n",
       "      <td>1230.0</td>\n",
       "      <td>2.0</td>\n",
       "      <td>2.0</td>\n",
       "    </tr>\n",
       "    <tr>\n",
       "      <th>6724</th>\n",
       "      <td>3.0</td>\n",
       "      <td>220.0</td>\n",
       "      <td>4.0</td>\n",
       "      <td>1050.0</td>\n",
       "      <td>2.0</td>\n",
       "      <td>2.0</td>\n",
       "    </tr>\n",
       "  </tbody>\n",
       "</table>\n",
       "</div>"
      ],
      "text/plain": [
       "       area_type  location  size  total_sqft  bath  balcony\n",
       "12514        3.0     178.0   4.0      1020.0   2.0      2.0\n",
       "4496         3.0     178.0   4.0      1100.0   2.0      2.0\n",
       "11344        3.0     178.0   4.0      1000.0   2.0      1.0\n",
       "4898         3.0     178.0   5.0      1230.0   2.0      2.0\n",
       "6724         3.0     220.0   4.0      1050.0   2.0      2.0"
      ]
     },
     "execution_count": 42,
     "metadata": {},
     "output_type": "execute_result"
    }
   ],
   "source": [
    "# Label encoding categorical features\n",
    "X_train_copy = X_train.copy()\n",
    "\n",
    "le = OrdinalEncoder() \n",
    "X_train_copy.loc[:, ['area_type','location']] = le.fit_transform(X_train_copy[['area_type','location']])\n",
    "\n",
    "X_train_copy.head()"
   ]
  },
  {
   "cell_type": "code",
   "execution_count": 43,
   "metadata": {
    "colab": {
     "base_uri": "https://localhost:8080/",
     "height": 313
    },
    "id": "J9J86iLupy_n",
    "outputId": "7aeaaebd-62c0-4fb6-f312-8afeeea9d176"
   },
   "outputs": [
    {
     "data": {
      "text/plain": [
       "<AxesSubplot:>"
      ]
     },
     "execution_count": 43,
     "metadata": {},
     "output_type": "execute_result"
    },
    {
     "data": {
      "image/png": "[encoded data removed]",
      "text/plain": [
       "<Figure size 432x288 with 1 Axes>"
      ]
     },
     "metadata": {},
     "output_type": "display_data"
    }
   ],
   "source": [
    "# Feature selection\n",
    "extra_tree = ExtraTreeRegressor(random_state=42)\n",
    "extra_tree.fit(X_train_copy, y_train)\n",
    "\n",
    "feat_imp = pd.DataFrame(extra_tree.feature_importances_, columns=['Importance'], index=X_train_copy.columns)\n",
    "feat_imp.sort_values(by='Importance',ascending=False).plot(kind='bar')"
   ]
  },
  {
   "cell_type": "markdown",
   "metadata": {
    "id": "sGsnGlhpsTrZ"
   },
   "source": [
    "**Insights:**\n",
    "\n",
    "* `balcony` has the least importance in the training data. So we can drop the column for algorithm like Linear regression."
   ]
  },
  {
   "cell_type": "code",
   "execution_count": 44,
   "metadata": {
    "id": "2XtVxPZsYYwj"
   },
   "outputs": [],
   "source": [
    "# Dropping the balcony feature\n",
    "X_train.drop('balcony', axis=1, inplace=True)\n",
    "X_test.drop('balcony', axis=1, inplace=True)"
   ]
  },
  {
   "cell_type": "markdown",
   "metadata": {
    "id": "IibylCLTIDSO"
   },
   "source": [
    "# Model Building\n",
    "We'll use several ML algorithms build a model:\n",
    "* Linear regression\n",
    "* Ridge regression\n",
    "* Lasso regression\n",
    "* Support Vector Regressor\n",
    "* Decision Tree Regressor\n",
    "* Random Forest Regressor\n",
    "* Gradient Boosting Regressor\n",
    "* XGBoost Regressor"
   ]
  },
  {
   "cell_type": "markdown",
   "metadata": {
    "id": "6oJbodhOPgQX"
   },
   "source": [
    "## Linear Regression\n",
    "\n",
    "As I mentioned before, we'll One-hot encode the `area_type & location` features for algorithms like Linear regression, Lasso regression, Support Vector regressor."
   ]
  },
  {
   "cell_type": "code",
   "execution_count": 45,
   "metadata": {
    "colab": {
     "base_uri": "https://localhost:8080/"
    },
    "id": "UVQn_6xQBJ9f",
    "outputId": "5ae32f27-07f3-403d-c398-a98c2c794f2c"
   },
   "outputs": [
    {
     "name": "stdout",
     "output_type": "stream",
     "text": [
      "Score: 0.8706164921773049\n",
      "Best parameters: {'lr__fit_intercept': True}\n"
     ]
    }
   ],
   "source": [
    "# Fit Linear Regression model on data and search for best params\n",
    "\n",
    "# Numerical and Categorical features\n",
    "num_features = X_train.select_dtypes(['int64','float64']).columns\n",
    "cat_features = X_train.select_dtypes(['object']).columns\n",
    "\n",
    "# Building Column Transformer for numerical & categorical features\n",
    "col_transformer = ColumnTransformer([('ohc', OneHotEncoder(drop='first', handle_unknown='ignore'), cat_features),\n",
    "                                     ('scaler', StandardScaler(), num_features)])\n",
    "\n",
    "# Pipeline\n",
    "lr_pipe = Pipeline([('preprocessing', col_transformer),\n",
    "                    ('lr', LinearRegression())])\n",
    "\n",
    "# Grid Search params\n",
    "param_grid = {'lr__fit_intercept':[True, False]}\n",
    "\n",
    "# KFold crossvalidation & GridSearch\n",
    "kfold = KFold(n_splits=5)\n",
    "cv_lr = GridSearchCV(lr_pipe, param_grid, cv=kfold, scoring='r2', n_jobs=-1, error_score='raise')\n",
    "\n",
    "cv_lr.fit(X_train, y_train)\n",
    "print(f'Score: {cv_lr.best_score_}')\n",
    "print(f'Best parameters: {cv_lr.best_params_}')"
   ]
  },
  {
   "cell_type": "code",
   "execution_count": 46,
   "metadata": {
    "colab": {
     "base_uri": "https://localhost:8080/"
    },
    "id": "9z14ulBA4eBe",
    "outputId": "63a4b370-9aa1-4997-d33d-9b9f8c009ea7"
   },
   "outputs": [
    {
     "name": "stdout",
     "output_type": "stream",
     "text": [
      "Test r2 score: 0.85274155545828\n"
     ]
    }
   ],
   "source": [
    "# Evaluating on train-test data\n",
    "lr = cv_lr.best_estimator_\n",
    "lr_test_score = lr.score(X_test, y_test)\n",
    "print(f'Test r2 score: {lr_test_score}')"
   ]
  },
  {
   "cell_type": "markdown",
   "metadata": {
    "id": "qYNtfIMH5BAN"
   },
   "source": [
    "## Lasso Regression"
   ]
  },
  {
   "cell_type": "code",
   "execution_count": 47,
   "metadata": {
    "colab": {
     "base_uri": "https://localhost:8080/"
    },
    "id": "ORFKuhxE7KpA",
    "outputId": "edeebb92-e95b-46b3-aeee-bb45a4b98789"
   },
   "outputs": [
    {
     "name": "stdout",
     "output_type": "stream",
     "text": [
      "Score: 0.8339252497200164\n",
      "Best parameters: {'lassor__alpha': 0.1}\n"
     ]
    }
   ],
   "source": [
    "# Fit Lasso Regression model on data and search for best params\n",
    "\n",
    "# Building Column Transformer for numerical & categorical features\n",
    "col_transformer = ColumnTransformer([('ohc', OneHotEncoder(drop='first', handle_unknown='ignore'), cat_features),\n",
    "                                     ('scaler', StandardScaler(), num_features)])\n",
    "\n",
    "# Pipeline\n",
    "lasso_pipe = Pipeline([('preprocessing', col_transformer),\n",
    "                    ('lassor', Lasso())])\n",
    "\n",
    "# Grid Search params\n",
    "param_grid = {'lassor__alpha':[0.1, 1, 10]}\n",
    "\n",
    "# KFold crossvalidation & GridSearch\n",
    "kfold = KFold(n_splits=5)\n",
    "cv_lasso = GridSearchCV(lasso_pipe, param_grid, cv=kfold, scoring='r2', n_jobs=-1, error_score='raise')\n",
    "\n",
    "cv_lasso.fit(X_train, y_train)\n",
    "print(f'Score: {cv_lasso.best_score_}')\n",
    "print(f'Best parameters: {cv_lasso.best_params_}')"
   ]
  },
  {
   "cell_type": "code",
   "execution_count": 48,
   "metadata": {
    "colab": {
     "base_uri": "https://localhost:8080/"
    },
    "id": "2rzqSYXG79Fe",
    "outputId": "a1e10099-d7b2-43ea-d19e-c330a2ec1f7f"
   },
   "outputs": [
    {
     "name": "stdout",
     "output_type": "stream",
     "text": [
      "Test r2 score: 0.8091354611533529\n"
     ]
    }
   ],
   "source": [
    "# Evaluating on train-test data\n",
    "lasso = cv_lasso.best_estimator_\n",
    "lasso_test_score = lasso.score(X_test, y_test)\n",
    "print(f'Test r2 score: {lasso_test_score}')"
   ]
  },
  {
   "cell_type": "markdown",
   "metadata": {
    "id": "x94S1dkv7_7n"
   },
   "source": [
    "## Ridge Regression"
   ]
  },
  {
   "cell_type": "code",
   "execution_count": 49,
   "metadata": {
    "colab": {
     "base_uri": "https://localhost:8080/"
    },
    "id": "x5NtPxpB9Ijh",
    "outputId": "d0181bf8-b338-4b50-afc9-7e8bca21b91f"
   },
   "outputs": [
    {
     "name": "stdout",
     "output_type": "stream",
     "text": [
      "Score: 0.8707313695486139\n",
      "Best parameters: {'ridge__alpha': 0.1, 'ridge__fit_intercept': True}\n"
     ]
    }
   ],
   "source": [
    "# Fit Ridge Regression model on data and search for best params\n",
    "\n",
    "# Building Column Transformer for numerical & categorical features\n",
    "col_transformer = ColumnTransformer([('ohc', OneHotEncoder(drop='first', handle_unknown='ignore'), cat_features),\n",
    "                                     ('scaler', StandardScaler(), num_features)])\n",
    "\n",
    "# Pipeline\n",
    "ridge_pipe = Pipeline([('preprocessing', col_transformer),\n",
    "                    ('ridge', Ridge())])\n",
    "\n",
    "# Grid Search params\n",
    "param_grid = {'ridge__alpha':[0.01, 0.1, 1, 10, 100],\n",
    "              'ridge__fit_intercept':[True, False]}\n",
    "\n",
    "# KFold crossvalidation & GridSearch\n",
    "kfold = KFold(n_splits=5)\n",
    "cv_ridge = GridSearchCV(ridge_pipe, param_grid, cv=kfold, scoring='r2', n_jobs=-1, error_score='raise')\n",
    "\n",
    "cv_ridge.fit(X_train, y_train)\n",
    "print(f'Score: {cv_ridge.best_score_}')\n",
    "print(f'Best parameters: {cv_ridge.best_params_}')"
   ]
  },
  {
   "cell_type": "code",
   "execution_count": 50,
   "metadata": {
    "colab": {
     "base_uri": "https://localhost:8080/"
    },
    "id": "ZunFhUZh9JRq",
    "outputId": "ac0ca252-1f99-4dd0-d999-3c57caad49d9"
   },
   "outputs": [
    {
     "name": "stdout",
     "output_type": "stream",
     "text": [
      "Test r2 score: 0.8528863428902772\n"
     ]
    }
   ],
   "source": [
    "# Evaluating on train-test data\n",
    "ridge = cv_ridge.best_estimator_\n",
    "ridge_test_score = ridge.score(X_test, y_test)\n",
    "print(f'Test r2 score: {ridge_test_score}')"
   ]
  },
  {
   "cell_type": "markdown",
   "metadata": {
    "id": "qd_hg3dy9JVw"
   },
   "source": [
    "## Support Vector Regressor"
   ]
  },
  {
   "cell_type": "code",
   "execution_count": 53,
   "metadata": {
    "colab": {
     "base_uri": "https://localhost:8080/"
    },
    "id": "9pq9roAt9JbJ",
    "outputId": "468ea420-247b-4a63-8a45-7e6fef0b1d81"
   },
   "outputs": [
    {
     "name": "stdout",
     "output_type": "stream",
     "text": [
      "Score: 0.8483342137097676\n",
      "Best parameters: {'svr__kernel': 'rbf', 'svr__gamma': 0.1, 'svr__C': 100}\n"
     ]
    }
   ],
   "source": [
    "# Fit Support Vector Regression model on data and search for best params\n",
    "\n",
    "# Building Column Transformer for numerical & categorical features\n",
    "col_transformer = ColumnTransformer([('ohc', OneHotEncoder(drop='first', handle_unknown='ignore'), cat_features),\n",
    "                                     ('scaler', StandardScaler(), num_features)])\n",
    "\n",
    "# Pipeline\n",
    "svr_pipe = Pipeline([('preprocessing', col_transformer),\n",
    "                    ('svr', SVR())])\n",
    "\n",
    "# Grid Search params\n",
    "param_grid = {'svr__kernel':['rbf'],\n",
    "              'svr__C':[0.001, 0.01, 0.1, 1, 10, 100, 1000],\n",
    "              'svr__gamma':[1e-4, 1e-3, 0.01, 0.1, 0.2, 0.5, 0.6, 0.9]}\n",
    "\n",
    "# KFold crossvalidation & RandomizedSearch\n",
    "kfold = KFold(n_splits=5)\n",
    "rcv_svr = RandomizedSearchCV(svr_pipe, param_grid, cv=kfold, scoring='r2', n_jobs=-1, n_iter=20)\n",
    "rcv_svr.fit(X_train, y_train)\n",
    "print(f'Score: {rcv_svr.best_score_}')\n",
    "print(f'Best parameters: {rcv_svr.best_params_}')"
   ]
  },
  {
   "cell_type": "code",
   "execution_count": 54,
   "metadata": {
    "colab": {
     "base_uri": "https://localhost:8080/"
    },
    "id": "vFZ7qKnGEq77",
    "outputId": "cfce4126-d1be-427a-8013-cbcd17e5d389"
   },
   "outputs": [
    {
     "name": "stdout",
     "output_type": "stream",
     "text": [
      "Test r2 score: 0.8579827055527122\n"
     ]
    }
   ],
   "source": [
    "# Evaluating on train-test data\n",
    "svr = rcv_svr.best_estimator_\n",
    "svr_test_score = svr.score(X_test, y_test)\n",
    "print(f'Test r2 score: {svr_test_score}')"
   ]
  },
  {
   "cell_type": "markdown",
   "metadata": {
    "id": "OqqnLP13STD6"
   },
   "source": [
    "## Decision Tree"
   ]
  },
  {
   "cell_type": "code",
   "execution_count": 57,
   "metadata": {
    "colab": {
     "base_uri": "https://localhost:8080/"
    },
    "id": "LxKPLM4kSWgZ",
    "outputId": "445e7cd1-695a-4327-f12b-3eeb77c27165"
   },
   "outputs": [
    {
     "name": "stdout",
     "output_type": "stream",
     "text": [
      "Score: 0.8076977463788186\n",
      "Best parameters: {'dt__max_depth': 8, 'dt__max_features': None, 'dt__min_samples_leaf': 5, 'dt__min_samples_split': 15}\n"
     ]
    }
   ],
   "source": [
    "# Fit Decision Tree Regression model on data and search for best params\n",
    "\n",
    "# Building Column Transformer for numerical & categorical features\n",
    "col_transformer = ColumnTransformer([('oe', OrdinalEncoder(handle_unknown='use_encoded_value', unknown_value=242), cat_features),\n",
    "                                     ('scaler', StandardScaler(), num_features)])\n",
    "\n",
    "# Pipeline\n",
    "dt_pipe = Pipeline([('preprocessing', col_transformer),\n",
    "                    ('dt', DecisionTreeRegressor())])\n",
    "\n",
    "# Grid Search params\n",
    "param_grid = {'dt__max_depth':[5, 8, 15, 25, 30, None],\n",
    "              'dt__min_samples_split':[1.0, 2, 5, 10, 15, 100],\n",
    "              'dt__min_samples_leaf':[1, 2, 5, 10],\n",
    "              'dt__max_features':['log2', 'sqrt', None]}\n",
    "\n",
    "# KFold crossvalidation & GridSearch\n",
    "kfold = KFold(n_splits=5)\n",
    "gcv_dt = GridSearchCV(dt_pipe, param_grid, cv=kfold, scoring='r2', n_jobs=-1)\n",
    "\n",
    "gcv_dt.fit(X_train, y_train)\n",
    "print(f'Score: {gcv_dt.best_score_}')\n",
    "print(f'Best parameters: {gcv_dt.best_params_}')"
   ]
  },
  {
   "cell_type": "code",
   "execution_count": 58,
   "metadata": {
    "colab": {
     "base_uri": "https://localhost:8080/"
    },
    "id": "K7oi_J7GSWjt",
    "outputId": "3d5a2ce7-a961-48c1-b6b9-25b82645c511"
   },
   "outputs": [
    {
     "name": "stdout",
     "output_type": "stream",
     "text": [
      "Test r2 score: 0.7925448217241096\n"
     ]
    }
   ],
   "source": [
    "# Evaluating on train-test data\n",
    "dt = gcv_dt.best_estimator_\n",
    "dt_test_score = dt.score(X_test, y_test)\n",
    "print(f'Test r2 score: {dt_test_score}')"
   ]
  },
  {
   "cell_type": "markdown",
   "metadata": {
    "id": "yJWgYUZBEq_l"
   },
   "source": [
    "## Random Forest"
   ]
  },
  {
   "cell_type": "code",
   "execution_count": 59,
   "metadata": {
    "colab": {
     "base_uri": "https://localhost:8080/"
    },
    "id": "bzuh1-p4ErEb",
    "outputId": "5d78ff3d-9727-4a81-c1b4-7a4cd4edeaeb"
   },
   "outputs": [
    {
     "name": "stdout",
     "output_type": "stream",
     "text": [
      "Score: 0.8404603205406389\n",
      "Best parameters: {'rf__n_estimators': 500, 'rf__min_samples_split': 2, 'rf__min_samples_leaf': 1, 'rf__max_features': 'sqrt', 'rf__max_depth': 20}\n"
     ]
    }
   ],
   "source": [
    "# Fit Random Forest Regression model on data and search for best params\n",
    "\n",
    "# Building Column Transformer for numerical & categorical features\n",
    "col_transformer = ColumnTransformer([('oe', OrdinalEncoder(handle_unknown='use_encoded_value', unknown_value=242), cat_features),\n",
    "                                     ('scaler', StandardScaler(), num_features)])\n",
    "\n",
    "# Pipeline\n",
    "rf_pipe = Pipeline([('preprocessing', col_transformer),\n",
    "                    ('rf', RandomForestRegressor())])\n",
    "\n",
    "# Grid Search params\n",
    "param_grid = {'rf__n_estimators':[100, 200, 300, 500, 800, 1200],\n",
    "              'rf__max_depth':[5, 8, 15, 20],\n",
    "              'rf__min_samples_split':[1.0, 2, 5, 10, 15, 100],\n",
    "              'rf__min_samples_leaf':[1, 2, 5, 10, 15, 20],\n",
    "              'rf__max_features':['log2', 'sqrt', 'auto']}\n",
    "\n",
    "# KFold crossvalidation & RandomizedSearch\n",
    "kfold = KFold(n_splits=5)\n",
    "rcv_rf = RandomizedSearchCV(rf_pipe, param_grid, cv=kfold, scoring='r2', n_jobs=-1, n_iter=20, random_state=42)\n",
    "\n",
    "rcv_rf.fit(X_train, y_train)\n",
    "print(f'Score: {rcv_rf.best_score_}')\n",
    "print(f'Best parameters: {rcv_rf.best_params_}')"
   ]
  },
  {
   "cell_type": "code",
   "execution_count": 60,
   "metadata": {
    "colab": {
     "base_uri": "https://localhost:8080/"
    },
    "id": "YvvTIvNJErIK",
    "outputId": "59d53c38-1e7c-4d19-f2cf-10d986528a03"
   },
   "outputs": [
    {
     "name": "stdout",
     "output_type": "stream",
     "text": [
      "Test r2 score: 0.8440381109181333\n"
     ]
    }
   ],
   "source": [
    "# Evaluating on train-test data\n",
    "rf = rcv_rf.best_estimator_\n",
    "rf_test_score = rf.score(X_test, y_test)\n",
    "print(f'Test r2 score: {rf_test_score}')"
   ]
  },
  {
   "cell_type": "code",
   "execution_count": 67,
   "metadata": {},
   "outputs": [],
   "source": [
    "import joblib as j\n",
    "with open('RF_model','wb') as f:\n",
    "    j.dump(rf, f, compress=3)"
   ]
  },
  {
   "cell_type": "code",
   "execution_count": 68,
   "metadata": {},
   "outputs": [
    {
     "name": "stdout",
     "output_type": "stream",
     "text": [
      "Wall time: 1.98 s\n"
     ]
    }
   ],
   "source": [
    "%%time\n",
    "rf = j.load(open('RF_model','rb'))"
   ]
  },
  {
   "cell_type": "code",
   "execution_count": 70,
   "metadata": {},
   "outputs": [
    {
     "name": "stdout",
     "output_type": "stream",
     "text": [
      "[15:14:16] WARNING: C:/Jenkins/workspace/xgboost-win64_release_0.90/src/objective/regression_obj.cu:152: reg:linear is now deprecated in favor of reg:squarederror.\n",
      "[15:14:16] WARNING: C:/Jenkins/workspace/xgboost-win64_release_0.90/src/objective/regression_obj.cu:152: reg:linear is now deprecated in favor of reg:squarederror.\n",
      "Wall time: 99 ms\n"
     ]
    }
   ],
   "source": [
    "%%time\n",
    "s_model = pickle.load(open('Stacked_model.pkl','rb'))"
   ]
  },
  {
   "cell_type": "markdown",
   "metadata": {
    "id": "-akH4xVrE4qr"
   },
   "source": [
    "## GradientBoosting Regressor\n"
   ]
  },
  {
   "cell_type": "code",
   "execution_count": 71,
   "metadata": {
    "colab": {
     "base_uri": "https://localhost:8080/"
    },
    "id": "2vuHpQvSE4tn",
    "outputId": "d8db1156-653b-4dfc-fdb7-ce37830c1e47"
   },
   "outputs": [
    {
     "name": "stdout",
     "output_type": "stream",
     "text": [
      "Score: 0.8500537058082525\n",
      "Best parameters: {'gb__subsample': 1.0, 'gb__n_estimators': 800, 'gb__min_samples_split': 5, 'gb__min_samples_leaf': 2, 'gb__max_features': 'sqrt', 'gb__max_depth': 5}\n"
     ]
    }
   ],
   "source": [
    "# Fit GradientBoosting Regression model on data and search for best params\n",
    "\n",
    "# Building Column Transformer for numerical & categorical features\n",
    "col_transformer = ColumnTransformer([('oe', OrdinalEncoder(handle_unknown='use_encoded_value', unknown_value=242), cat_features),\n",
    "                                     ('scaler', StandardScaler(), num_features)])\n",
    "\n",
    "# Pipeline\n",
    "gb_pipe = Pipeline([('preprocessing', col_transformer),\n",
    "                    ('gb', GradientBoostingRegressor())])\n",
    "\n",
    "# Grid Search params\n",
    "param_grid = {'gb__n_estimators':[100, 200, 300, 500, 800, 1200],\n",
    "              'gb__max_depth':[5, 8, 15, 20],\n",
    "              'gb__subsample': [1.0, 0.9, 0.5, 0.2, 0.1],\n",
    "              'gb__min_samples_split':[1.0, 2, 5, 10, 15, 100],\n",
    "              'gb__min_samples_leaf':[1, 2, 5, 10, 15, 20],\n",
    "              'gb__max_features':['log2', 'sqrt', 'auto']}\n",
    "\n",
    "# KFold crossvalidation & RandomizedSearch\n",
    "kfold = KFold(n_splits=5)\n",
    "rcv_gb = RandomizedSearchCV(gb_pipe, param_grid, cv=kfold, scoring='r2', n_jobs=-1, n_iter=20, random_state=100)\n",
    "\n",
    "rcv_gb.fit(X_train, y_train)\n",
    "print(f'Score: {rcv_gb.best_score_}')\n",
    "print(f'Best parameters: {rcv_gb.best_params_}')"
   ]
  },
  {
   "cell_type": "code",
   "execution_count": 72,
   "metadata": {
    "colab": {
     "base_uri": "https://localhost:8080/"
    },
    "id": "kI7iHt9mE33S",
    "outputId": "3612d826-1a46-4e47-f4dc-27b4d7211975"
   },
   "outputs": [
    {
     "name": "stdout",
     "output_type": "stream",
     "text": [
      "Test r2 score: 0.878316936437574\n"
     ]
    }
   ],
   "source": [
    "# Evaluating on train-test data\n",
    "gb = rcv_gb.best_estimator_\n",
    "gb_test_score = gb.score(X_test, y_test)\n",
    "print(f'Test r2 score: {gb_test_score}')"
   ]
  },
  {
   "cell_type": "markdown",
   "metadata": {
    "id": "5Lk1L6aeO4YN"
   },
   "source": [
    "## XGBoost"
   ]
  },
  {
   "cell_type": "code",
   "execution_count": null,
   "metadata": {
    "colab": {
     "base_uri": "https://localhost:8080/"
    },
    "id": "NJL6c3GWOwn-",
    "outputId": "81385ada-272a-4cef-e87d-7932822c7bdb"
   },
   "outputs": [],
   "source": [
    "# Fit XGBoost Regression model on data and search for best params\n",
    "\n",
    "# Building Column Transformer for numerical & categorical features\n",
    "col_transformer = ColumnTransformer([('oe', OrdinalEncoder(handle_unknown='use_encoded_value', unknown_value=242), cat_features),\n",
    "                                     ('scaler', StandardScaler(), num_features)])\n",
    "\n",
    "# Pipeline\n",
    "xgb_pipe = Pipeline([('preprocessing', col_transformer),\n",
    "                    ('xgb', XGBRegressor())])\n",
    "\n",
    "# Bayes Search params\n",
    "param_grid = {'xgb__n_estimators': Integer(100, 1000),\n",
    "              'xgb__max_depth':Integer(5, 20),\n",
    "              'xgb__eta': Real(0.01, 0.1),\n",
    "              'xgb__gamma':Real(0.05, 1),\n",
    "              'xgb__min_child_weight':Integer(1, 10),\n",
    "              'xgb__subsample':Real(0.5, 1),\n",
    "              'xgb__colsample_bytree':Real(0.5, 1),\n",
    "              'xgb__reg_lambda':Real(0.01, 1),\n",
    "              'xgb__reg_alpha':Integer(40, 180)}\n",
    "\n",
    "# KFold crossvalidation & BayesSearch\n",
    "kfold = KFold(n_splits=5)\n",
    "rcv_xgb = BayesSearchCV(xgb_pipe, param_grid, cv=kfold, scoring='r2', n_jobs=-1, n_iter=20, random_state=42)\n",
    "\n",
    "rcv_xgb.fit(X_train, y_train)\n",
    "print(f'Score: {rcv_xgb.best_score_}')\n",
    "print(f'Best parameters: {rcv_xgb.best_params_}')"
   ]
  },
  {
   "cell_type": "code",
   "execution_count": null,
   "metadata": {
    "colab": {
     "base_uri": "https://localhost:8080/"
    },
    "id": "qOxR0GzxOwn_",
    "outputId": "d3a0ac18-79eb-4446-d0ee-ff2636de7c91"
   },
   "outputs": [],
   "source": [
    "# Evaluating on train-test data\n",
    "xgb = rcv_xgb.best_estimator_\n",
    "xgb_test_score = xgb.score(X_test, y_test)\n",
    "print(f'Test r2 score: {xgb_test_score}')"
   ]
  },
  {
   "cell_type": "markdown",
   "metadata": {
    "id": "FY5U1pBN9JyI"
   },
   "source": [
    "## Stacking\n",
    "\n",
    "I'll use the 6 models for Stacking namely:\n",
    "* SVR \n",
    "* XGBoost\n",
    "* GradientBoost\n",
    "* Ridge regression\n",
    "* Linear regression\n",
    "* Random Forest"
   ]
  },
  {
   "cell_type": "code",
   "execution_count": 87,
   "metadata": {
    "colab": {
     "base_uri": "https://localhost:8080/"
    },
    "id": "Q7Ufir-OCGNu",
    "outputId": "8eec96a4-b3b1-4c67-ef20-7fb48121318e"
   },
   "outputs": [
    {
     "name": "stdout",
     "output_type": "stream",
     "text": [
      "[08:41:46] WARNING: /workspace/src/objective/regression_obj.cu:152: reg:linear is now deprecated in favor of reg:squarederror.\n",
      "[08:42:07] WARNING: /workspace/src/objective/regression_obj.cu:152: reg:linear is now deprecated in favor of reg:squarederror.\n",
      "[08:42:10] WARNING: /workspace/src/objective/regression_obj.cu:152: reg:linear is now deprecated in favor of reg:squarederror.\n",
      "[08:42:13] WARNING: /workspace/src/objective/regression_obj.cu:152: reg:linear is now deprecated in favor of reg:squarederror.\n",
      "[08:42:16] WARNING: /workspace/src/objective/regression_obj.cu:152: reg:linear is now deprecated in favor of reg:squarederror.\n",
      "[08:42:18] WARNING: /workspace/src/objective/regression_obj.cu:152: reg:linear is now deprecated in favor of reg:squarederror.\n",
      "Test score: 0.8754864434538456\n"
     ]
    }
   ],
   "source": [
    "# Stacking the model with best params\n",
    "level0 = list()\n",
    "level0.append(('svr', svr))\n",
    "level0.append(('xgb', xgb))\n",
    "level0.append(('gb', gb))\n",
    "level0.append(('ridge', ridge))\n",
    "level0.append(('linear', lr))\n",
    "level0.append(('rf', rf))\n",
    "\n",
    "# define meta learner model\n",
    "level1 = LinearRegression()\n",
    "\n",
    "# define the stacking ensemble\n",
    "stacked_model = StackingRegressor(estimators=level0, final_estimator=level1, cv=5)\n",
    "\n",
    "# Fit the stacked model\n",
    "stacked_model.fit(X_train, y_train)\n",
    "stacked_test_score = stacked_model.score(X_test, y_test)\n",
    "print(f'Test score: {stacked_test_score}')"
   ]
  },
  {
   "cell_type": "markdown",
   "metadata": {
    "id": "JHsfmM2x9Jis"
   },
   "source": [
    "## Comparison of models"
   ]
  },
  {
   "cell_type": "code",
   "execution_count": 88,
   "metadata": {
    "colab": {
     "base_uri": "https://localhost:8080/",
     "height": 332
    },
    "id": "_Tz0Pn1rcrJm",
    "outputId": "83c9d0a5-b57d-434e-f158-ad9d620772be"
   },
   "outputs": [
    {
     "data": {
      "text/html": [
       "\n",
       "  <div id=\"df-ffedde60-ce19-4dae-b8ca-5bcc7bd6639c\">\n",
       "    <div class=\"colab-df-container\">\n",
       "      <div>\n",
       "<style scoped>\n",
       "    .dataframe tbody tr th:only-of-type {\n",
       "        vertical-align: middle;\n",
       "    }\n",
       "\n",
       "    .dataframe tbody tr th {\n",
       "        vertical-align: top;\n",
       "    }\n",
       "\n",
       "    .dataframe thead th {\n",
       "        text-align: right;\n",
       "    }\n",
       "</style>\n",
       "<table border=\"1\" class=\"dataframe\">\n",
       "  <thead>\n",
       "    <tr style=\"text-align: right;\">\n",
       "      <th></th>\n",
       "      <th>Test_scores</th>\n",
       "    </tr>\n",
       "  </thead>\n",
       "  <tbody>\n",
       "    <tr>\n",
       "      <th>Stacked model</th>\n",
       "      <td>0.875486</td>\n",
       "    </tr>\n",
       "    <tr>\n",
       "      <th>GradientBoost Regression</th>\n",
       "      <td>0.875389</td>\n",
       "    </tr>\n",
       "    <tr>\n",
       "      <th>XGBoost Regression</th>\n",
       "      <td>0.867378</td>\n",
       "    </tr>\n",
       "    <tr>\n",
       "      <th>SVR</th>\n",
       "      <td>0.857983</td>\n",
       "    </tr>\n",
       "    <tr>\n",
       "      <th>Ridge Regression</th>\n",
       "      <td>0.852886</td>\n",
       "    </tr>\n",
       "    <tr>\n",
       "      <th>Linear Regression</th>\n",
       "      <td>0.852742</td>\n",
       "    </tr>\n",
       "    <tr>\n",
       "      <th>RandomForest Regression</th>\n",
       "      <td>0.843354</td>\n",
       "    </tr>\n",
       "    <tr>\n",
       "      <th>DecisionTree Regression</th>\n",
       "      <td>0.811337</td>\n",
       "    </tr>\n",
       "    <tr>\n",
       "      <th>Lasso Regression</th>\n",
       "      <td>0.809135</td>\n",
       "    </tr>\n",
       "  </tbody>\n",
       "</table>\n",
       "</div>\n",
       "      <button class=\"colab-df-convert\" onclick=\"convertToInteractive('df-ffedde60-ce19-4dae-b8ca-5bcc7bd6639c')\"\n",
       "              title=\"Convert this dataframe to an interactive table.\"\n",
       "              style=\"display:none;\">\n",
       "        \n",
       "  <svg xmlns=\"http://www.w3.org/2000/svg\" height=\"24px\"viewBox=\"0 0 24 24\"\n",
       "       width=\"24px\">\n",
       "    <path d=\"M0 0h24v24H0V0z\" fill=\"none\"/>\n",
       "    <path d=\"M18.56 5.44l.94 2.06.94-2.06 2.06-.94-2.06-.94-.94-2.06-.94 2.06-2.06.94zm-11 1L8.5 8.5l.94-2.06 2.06-.94-2.06-.94L8.5 2.5l-.94 2.06-2.06.94zm10 10l.94 2.06.94-2.06 2.06-.94-2.06-.94-.94-2.06-.94 2.06-2.06.94z\"/><path d=\"M17.41 7.96l-1.37-1.37c-.4-.4-.92-.59-1.43-.59-.52 0-1.04.2-1.43.59L10.3 9.45l-7.72 7.72c-.78.78-.78 2.05 0 2.83L4 21.41c.39.39.9.59 1.41.59.51 0 1.02-.2 1.41-.59l7.78-7.78 2.81-2.81c.8-.78.8-2.07 0-2.86zM5.41 20L4 18.59l7.72-7.72 1.47 1.35L5.41 20z\"/>\n",
       "  </svg>\n",
       "      </button>\n",
       "      \n",
       "  <style>\n",
       "    .colab-df-container {\n",
       "      display:flex;\n",
       "      flex-wrap:wrap;\n",
       "      gap: 12px;\n",
       "    }\n",
       "\n",
       "    .colab-df-convert {\n",
       "      background-color: #E8F0FE;\n",
       "      border: none;\n",
       "      border-radius: 50%;\n",
       "      cursor: pointer;\n",
       "      display: none;\n",
       "      fill: #1967D2;\n",
       "      height: 32px;\n",
       "      padding: 0 0 0 0;\n",
       "      width: 32px;\n",
       "    }\n",
       "\n",
       "    .colab-df-convert:hover {\n",
       "      background-color: #E2EBFA;\n",
       "      box-shadow: 0px 1px 2px rgba(60, 64, 67, 0.3), 0px 1px 3px 1px rgba(60, 64, 67, 0.15);\n",
       "      fill: #174EA6;\n",
       "    }\n",
       "\n",
       "    [theme=dark] .colab-df-convert {\n",
       "      background-color: #3B4455;\n",
       "      fill: #D2E3FC;\n",
       "    }\n",
       "\n",
       "    [theme=dark] .colab-df-convert:hover {\n",
       "      background-color: #434B5C;\n",
       "      box-shadow: 0px 1px 3px 1px rgba(0, 0, 0, 0.15);\n",
       "      filter: drop-shadow(0px 1px 2px rgba(0, 0, 0, 0.3));\n",
       "      fill: #FFFFFF;\n",
       "    }\n",
       "  </style>\n",
       "\n",
       "      <script>\n",
       "        const buttonEl =\n",
       "          document.querySelector('#df-ffedde60-ce19-4dae-b8ca-5bcc7bd6639c button.colab-df-convert');\n",
       "        buttonEl.style.display =\n",
       "          google.colab.kernel.accessAllowed ? 'block' : 'none';\n",
       "\n",
       "        async function convertToInteractive(key) {\n",
       "          const element = document.querySelector('#df-ffedde60-ce19-4dae-b8ca-5bcc7bd6639c');\n",
       "          const dataTable =\n",
       "            await google.colab.kernel.invokeFunction('convertToInteractive',\n",
       "                                                     [key], {});\n",
       "          if (!dataTable) return;\n",
       "\n",
       "          const docLinkHtml = 'Like what you see? Visit the ' +\n",
       "            '<a target=\"_blank\" href=https://colab.research.google.com/notebooks/data_table.ipynb>data table notebook</a>'\n",
       "            + ' to learn more about interactive tables.';\n",
       "          element.innerHTML = '';\n",
       "          dataTable['output_type'] = 'display_data';\n",
       "          await google.colab.output.renderOutput(dataTable, element);\n",
       "          const docLink = document.createElement('div');\n",
       "          docLink.innerHTML = docLinkHtml;\n",
       "          element.appendChild(docLink);\n",
       "        }\n",
       "      </script>\n",
       "    </div>\n",
       "  </div>\n",
       "  "
      ],
      "text/plain": [
       "                          Test_scores\n",
       "Stacked model                0.875486\n",
       "GradientBoost Regression     0.875389\n",
       "XGBoost Regression           0.867378\n",
       "SVR                          0.857983\n",
       "Ridge Regression             0.852886\n",
       "Linear Regression            0.852742\n",
       "RandomForest Regression      0.843354\n",
       "DecisionTree Regression      0.811337\n",
       "Lasso Regression             0.809135"
      ]
     },
     "execution_count": 88,
     "metadata": {},
     "output_type": "execute_result"
    }
   ],
   "source": [
    "# mean-std & dropping balcony\n",
    "algos = ['Linear Regression', 'Lasso Regression', 'Ridge Regression', 'SVR', 'DecisionTree Regression', 'RandomForest Regression', 'GradientBoost Regression', 'XGBoost Regression', 'Stacked model']\n",
    "test_scores = [lr_test_score, lasso_test_score, ridge_test_score, svr_test_score, dt_test_score, rf_test_score, gb_test_score, xgb_test_score, stacked_test_score]\n",
    "\n",
    "comparison = pd.DataFrame({'Test_scores': test_scores}, index=algos).sort_values(by='Test_scores', ascending=False)\n",
    "comparison"
   ]
  },
  {
   "cell_type": "markdown",
   "metadata": {
    "id": "gzrDOTPeTsbO"
   },
   "source": [
    "## Save the model"
   ]
  },
  {
   "cell_type": "code",
   "execution_count": 113,
   "metadata": {
    "id": "tMKcOOb-Wh-k"
   },
   "outputs": [],
   "source": [
    "with open('Stacked_model.pkl','wb') as f:\n",
    "  pickle.dump(stacked_model, f)"
   ]
  }
 ],
 "metadata": {
  "colab": {
   "collapsed_sections": [],
   "name": "Bangalore_House_Price_Prediction.ipynb",
   "provenance": []
  },
  "kernelspec": {
   "display_name": "username_ocr_2",
   "language": "python",
   "name": "username_ocr_2"
  },
  "language_info": {
   "codemirror_mode": {
    "name": "ipython",
    "version": 3
   },
   "file_extension": ".py",
   "mimetype": "text/x-python",
   "name": "python",
   "nbconvert_exporter": "python",
   "pygments_lexer": "ipython3",
   "version": "3.8.0"
  }
 },
 "nbformat": 4,
 "nbformat_minor": 1
}
